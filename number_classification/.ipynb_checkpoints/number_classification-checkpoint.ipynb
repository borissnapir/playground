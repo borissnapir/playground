{
 "cells": [
  {
   "cell_type": "code",
   "execution_count": 1,
   "id": "a8161fa1",
   "metadata": {},
   "outputs": [],
   "source": [
    "import os\n",
    "import numpy as np\n",
    "import pandas as pd\n",
    "\n",
    "from sklearn.model_selection import train_test_split\n",
    "\n",
    "import tensorflow as tf\n",
    "from Classifier import Classifier\n",
    "from DataGenerator import DataGenerator\n",
    "\n",
    "seed = 42"
   ]
  },
  {
   "cell_type": "markdown",
   "id": "dc3f7587",
   "metadata": {},
   "source": [
    "# prepare train, val, test datasets"
   ]
  },
  {
   "cell_type": "code",
   "execution_count": 2,
   "id": "fe1c2b60",
   "metadata": {},
   "outputs": [],
   "source": [
    "dataset = pd.read_csv(\"../data/players_number/train_player_numbers.csv\")\n",
    "# update the path to the images\n",
    "dataset[\"filepath\"] = dataset[\"filepath\"].apply(lambda x: \"../data/players_number/\"+x)"
   ]
  },
  {
   "cell_type": "code",
   "execution_count": 3,
   "id": "86eb33ce",
   "metadata": {},
   "outputs": [
    {
     "name": "stdout",
     "output_type": "stream",
     "text": [
      "       filename  video_frame  player  left   top  right  bottom  filepath\n",
      "label                                                                    \n",
      "0           130          130     130   130   130    130     130       130\n",
      "1            70           70      70    70    70     70      70        70\n",
      "2            99           99      99    99    99     99      99        99\n",
      "3           110          110     110   110   110    110     110       110\n",
      "4           116          116     116   116   116    116     116       116\n",
      "...         ...          ...     ...   ...   ...    ...     ...       ...\n",
      "95          552          552     552   552   552    552     552       552\n",
      "96          633          633     633   633   633    633     633       633\n",
      "97          838          838     838   838   838    838     838       838\n",
      "98         1008         1008    1008  1008  1008   1008    1008      1008\n",
      "99          735          735     735   735   735    735     735       735\n",
      "\n",
      "[100 rows x 8 columns]\n",
      "24\n"
     ]
    }
   ],
   "source": [
    "# number of samples varies for different numbers\n",
    "print(dataset.groupby(\"label\").agg(\"count\"))\n",
    "# smallest number of samples\n",
    "min_count = dataset.groupby(\"label\").agg(\"count\").min()[\"filename\"]\n",
    "print(min_count)"
   ]
  },
  {
   "cell_type": "code",
   "execution_count": 4,
   "id": "b20a9e01",
   "metadata": {},
   "outputs": [],
   "source": [
    "# randomly sample n samples with n=smallest number of samples \n",
    "subset = dataset.groupby(\"label\").sample(n=min_count, replace=False, random_state=seed)"
   ]
  },
  {
   "cell_type": "code",
   "execution_count": 5,
   "id": "760ef43f",
   "metadata": {},
   "outputs": [],
   "source": [
    "# one-hot encoding to use categorical cross entropy, not needed if sparse cat cross entropy\n",
    "subset = pd.concat([subset, pd.get_dummies(subset[\"label\"], prefix=\"n\")], axis=1)"
   ]
  },
  {
   "cell_type": "code",
   "execution_count": 6,
   "id": "42a7abff",
   "metadata": {},
   "outputs": [],
   "source": [
    "onehot_labels = [f\"n_{i}\" for i in range(100)]"
   ]
  },
  {
   "cell_type": "code",
   "execution_count": 13,
   "id": "60bc9881",
   "metadata": {},
   "outputs": [],
   "source": [
    "train, test = train_test_split(subset, test_size=0.3, random_state=seed, shuffle=True)\n",
    "test, val = train_test_split(test, test_size=0.3, random_state=seed, shuffle=True)"
   ]
  },
  {
   "cell_type": "markdown",
   "id": "daa72a9a",
   "metadata": {},
   "source": [
    "**make TF data generators**"
   ]
  },
  {
   "cell_type": "code",
   "execution_count": 14,
   "id": "ae049f26",
   "metadata": {},
   "outputs": [
    {
     "name": "stderr",
     "output_type": "stream",
     "text": [
      "2021-12-30 14:19:13.956775: I tensorflow/core/platform/cpu_feature_guard.cc:142] This TensorFlow binary is optimized with oneAPI Deep Neural Network Library (oneDNN) to use the following CPU instructions in performance-critical operations:  SSE4.1 SSE4.2 AVX AVX2 FMA\n",
      "To enable them in other operations, rebuild TensorFlow with the appropriate compiler flags.\n"
     ]
    }
   ],
   "source": [
    "DG = DataGenerator()\n",
    "\n",
    "y_key = \"label\" #onehot_labels\n",
    "\n",
    "train_ds = DG.get_dataset(\n",
    "    filenames=train[\"filepath\"].to_numpy(), \n",
    "    labels=train[y_key].to_numpy(), \n",
    "    batch_size=5, \n",
    "    n_prefetch=1,\n",
    "    training=True\n",
    ")\n",
    "\n",
    "val_ds = DG.get_dataset(\n",
    "    filenames=val[\"filepath\"].to_numpy(), \n",
    "    labels=val[y_key].to_numpy())\n",
    "\n",
    "test_ds = DG.get_dataset(\n",
    "    filenames=test[\"filepath\"].to_numpy(), \n",
    "    labels=test[y_key].to_numpy())"
   ]
  },
  {
   "cell_type": "markdown",
   "id": "c84256ab",
   "metadata": {},
   "source": [
    "# Make classifier"
   ]
  },
  {
   "cell_type": "code",
   "execution_count": 16,
   "id": "ea4f9c47",
   "metadata": {},
   "outputs": [
    {
     "name": "stdout",
     "output_type": "stream",
     "text": [
      "Epoch 1/50\n",
      "336/336 [==============================] - 5s 13ms/step - loss: 4.6235 - accuracy: 0.0125 - val_loss: 4.6050 - val_accuracy: 0.0046\n",
      "Epoch 2/50\n",
      "336/336 [==============================] - 4s 13ms/step - loss: 4.6055 - accuracy: 0.0089 - val_loss: 4.6061 - val_accuracy: 0.0046\n",
      "Epoch 3/50\n",
      "336/336 [==============================] - 4s 12ms/step - loss: 4.6076 - accuracy: 0.0083 - val_loss: 4.6067 - val_accuracy: 0.0046\n",
      "Epoch 4/50\n",
      "336/336 [==============================] - 4s 13ms/step - loss: 4.6043 - accuracy: 0.0143 - val_loss: 4.6069 - val_accuracy: 0.0000e+00\n",
      "Epoch 5/50\n",
      "336/336 [==============================] - 4s 13ms/step - loss: 4.6049 - accuracy: 0.0101 - val_loss: 4.6094 - val_accuracy: 0.0093\n",
      "Epoch 6/50\n",
      "336/336 [==============================] - 5s 13ms/step - loss: 4.5978 - accuracy: 0.0119 - val_loss: 4.6068 - val_accuracy: 0.0000e+00\n",
      "Epoch 7/50\n",
      "336/336 [==============================] - 4s 13ms/step - loss: 4.5946 - accuracy: 0.0167 - val_loss: 4.6122 - val_accuracy: 0.0046\n",
      "Epoch 8/50\n",
      "336/336 [==============================] - 5s 14ms/step - loss: 4.5886 - accuracy: 0.0161 - val_loss: 4.6082 - val_accuracy: 0.0046\n",
      "Epoch 9/50\n",
      "336/336 [==============================] - 5s 14ms/step - loss: 4.5787 - accuracy: 0.0202 - val_loss: 4.6115 - val_accuracy: 0.0093\n",
      "Epoch 10/50\n",
      "336/336 [==============================] - 5s 14ms/step - loss: 4.5613 - accuracy: 0.0196 - val_loss: 4.6123 - val_accuracy: 0.0139\n",
      "Epoch 11/50\n",
      "336/336 [==============================] - 4s 13ms/step - loss: 4.5422 - accuracy: 0.0304 - val_loss: 4.6214 - val_accuracy: 0.0139\n"
     ]
    },
    {
     "data": {
      "text/plain": [
       "<keras.callbacks.History at 0x7fb5071645b0>"
      ]
     },
     "execution_count": 16,
     "metadata": {},
     "output_type": "execute_result"
    }
   ],
   "source": [
    "classifier = Classifier()\n",
    "opt = tf.keras.optimizers.SGD(learning_rate=0.0005, momentum=0.9)\n",
    "classifier.model.compile(loss='sparse_categorical_crossentropy', optimizer=opt, metrics=['accuracy'])\n",
    "\n",
    "# callbacks\n",
    "checkpoint_cb = tf.keras.callbacks.ModelCheckpoint(\"./model_weights/model.h5\", save_best_only=True)\n",
    "early_stopping_cb = tf.keras.callbacks.EarlyStopping(patience=10, restore_best_weights=True)\n",
    "\n",
    "classifier.model.fit(train_ds, validation_data=val_ds, epochs=50, callbacks=[checkpoint_cb, early_stopping_cb])"
   ]
  },
  {
   "cell_type": "markdown",
   "id": "79f5fb1d",
   "metadata": {},
   "source": [
    "# try transfer learning from xception pretrained on imagenet\n",
    "\n",
    "classify first and second digit separately"
   ]
  },
  {
   "cell_type": "code",
   "execution_count": 89,
   "id": "ec3fe3b1",
   "metadata": {},
   "outputs": [],
   "source": [
    "# split the number into 2 digits\n",
    "subset[\"first_digit\"] = subset[\"label\"].apply(lambda x: int(f'{x:02d}'[0]))\n",
    "subset[\"second_digit\"] = subset[\"label\"].apply(lambda x: int(f'{x:02d}'[1]))\n",
    "\n",
    "\n",
    "train, test = train_test_split(subset, test_size=0.3, random_state=seed, shuffle=True)\n",
    "test, val = train_test_split(test, test_size=0.3, random_state=seed, shuffle=True)"
   ]
  },
  {
   "cell_type": "code",
   "execution_count": 101,
   "id": "f05daae1",
   "metadata": {},
   "outputs": [],
   "source": [
    "DG = DataGenerator()\n",
    "\n",
    "train_ds = DG.get_dataset(\n",
    "    filenames=train[\"filepath\"].to_numpy(), \n",
    "    labels=(train[\"first_digit\"].to_numpy(), train[\"second_digit\"].to_numpy()),\n",
    "    batch_size=5, \n",
    "    n_prefetch=1,\n",
    "    training=True\n",
    ")\n",
    "\n",
    "val_ds = DG.get_dataset(\n",
    "    filenames=val[\"filepath\"].to_numpy(), \n",
    "    labels=(val[\"first_digit\"].to_numpy(), val[\"second_digit\"].to_numpy()))\n",
    "\n",
    "test_ds = DG.get_dataset(\n",
    "    filenames=test[\"filepath\"].to_numpy(), \n",
    "    labels=(test[\"first_digit\"].to_numpy(), test[\"second_digit\"].to_numpy()))"
   ]
  },
  {
   "cell_type": "code",
   "execution_count": 102,
   "id": "76e57b32",
   "metadata": {},
   "outputs": [],
   "source": [
    "base_model = tf.keras.applications.xception.Xception(weights=\"imagenet\", include_top=False)\n",
    "# base_modle = tf.keras.applications.EfficientNetB0(weights=\"imagenet\", include_top=False)\n",
    "\n",
    "avg = tf.keras.layers.GlobalAveragePooling2D()(base_model.output)\n",
    "first_digit_output = tf.keras.layers.Dense(10, activation=\"softmax\")(avg)\n",
    "second_digit_output = tf.keras.layers.Dense(10, activation=\"softmax\")(avg)\n",
    "model = tf.keras.Model(inputs=base_model.input, outputs=[first_digit_output, second_digit_output])\n",
    "\n",
    "# freeze the weights\n",
    "for layer in base_model.layers:\n",
    "    layer.trainable = False"
   ]
  },
  {
   "cell_type": "code",
   "execution_count": 103,
   "id": "52fa45d0",
   "metadata": {},
   "outputs": [],
   "source": [
    "optimizer = tf.keras.optimizers.SGD(learning_rate=0.01, momentum=0.9, decay=0.001)\n",
    "model.compile(\n",
    "    loss=[\"sparse_categorical_crossentropy\", \"sparse_categorical_crossentropy\"],\n",
    "    loss_weights=[0.5, 0.5],\n",
    "    optimizer=optimizer, \n",
    "    metrics=[\"accuracy\"]\n",
    ")"
   ]
  },
  {
   "cell_type": "code",
   "execution_count": 104,
   "id": "d06c7188",
   "metadata": {
    "scrolled": true
   },
   "outputs": [
    {
     "name": "stdout",
     "output_type": "stream",
     "text": [
      "Epoch 1/5\n",
      "336/336 [==============================] - 18s 48ms/step - loss: 2.4620 - dense_24_loss: 2.4265 - dense_25_loss: 2.4974 - dense_24_accuracy: 0.1423 - dense_25_accuracy: 0.1173 - val_loss: 2.4705 - val_dense_24_loss: 2.4083 - val_dense_25_loss: 2.5327 - val_dense_24_accuracy: 0.1713 - val_dense_25_accuracy: 0.1481\n",
      "Epoch 2/5\n",
      "336/336 [==============================] - 17s 51ms/step - loss: 2.1838 - dense_24_loss: 2.1465 - dense_25_loss: 2.2210 - dense_24_accuracy: 0.2351 - dense_25_accuracy: 0.2012 - val_loss: 2.3844 - val_dense_24_loss: 2.3225 - val_dense_25_loss: 2.4462 - val_dense_24_accuracy: 0.1574 - val_dense_25_accuracy: 0.1296\n",
      "Epoch 3/5\n",
      "336/336 [==============================] - 16s 48ms/step - loss: 2.0189 - dense_24_loss: 1.9891 - dense_25_loss: 2.0487 - dense_24_accuracy: 0.2958 - dense_25_accuracy: 0.2774 - val_loss: 2.3838 - val_dense_24_loss: 2.3241 - val_dense_25_loss: 2.4436 - val_dense_24_accuracy: 0.1991 - val_dense_25_accuracy: 0.1389\n",
      "Epoch 4/5\n",
      "336/336 [==============================] - 18s 53ms/step - loss: 1.9088 - dense_24_loss: 1.8870 - dense_25_loss: 1.9306 - dense_24_accuracy: 0.3435 - dense_25_accuracy: 0.3405 - val_loss: 2.3864 - val_dense_24_loss: 2.3586 - val_dense_25_loss: 2.4143 - val_dense_24_accuracy: 0.1944 - val_dense_25_accuracy: 0.1481\n",
      "Epoch 5/5\n",
      "336/336 [==============================] - 20s 59ms/step - loss: 1.8374 - dense_24_loss: 1.8174 - dense_25_loss: 1.8574 - dense_24_accuracy: 0.3887 - dense_25_accuracy: 0.3786 - val_loss: 2.3382 - val_dense_24_loss: 2.2519 - val_dense_25_loss: 2.4245 - val_dense_24_accuracy: 0.2269 - val_dense_25_accuracy: 0.1574\n"
     ]
    }
   ],
   "source": [
    "history = model.fit(train_ds, epochs=5, validation_data=val_ds)"
   ]
  },
  {
   "cell_type": "code",
   "execution_count": null,
   "id": "9431bb7a",
   "metadata": {},
   "outputs": [],
   "source": []
  }
 ],
 "metadata": {
  "kernelspec": {
   "display_name": "Python 3 (ipykernel)",
   "language": "python",
   "name": "python3"
  },
  "language_info": {
   "codemirror_mode": {
    "name": "ipython",
    "version": 3
   },
   "file_extension": ".py",
   "mimetype": "text/x-python",
   "name": "python",
   "nbconvert_exporter": "python",
   "pygments_lexer": "ipython3",
   "version": "3.9.7"
  }
 },
 "nbformat": 4,
 "nbformat_minor": 5
}
