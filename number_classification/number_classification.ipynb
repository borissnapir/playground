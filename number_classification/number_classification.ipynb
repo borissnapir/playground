{
 "cells": [
  {
   "cell_type": "code",
   "execution_count": 14,
   "id": "a8161fa1",
   "metadata": {},
   "outputs": [],
   "source": [
    "!pip install tensorflow_datasets"
   ]
  },
  {
   "cell_type": "code",
   "execution_count": 1,
   "id": "9809e883",
   "metadata": {},
   "outputs": [],
   "source": [
    "import os\n",
    "import numpy as np\n",
    "import pandas as pd\n",
    "import matplotlib.pyplot as plt\n",
    "\n",
    "from sklearn.model_selection import train_test_split\n",
    "\n",
    "import tensorflow as tf\n",
    "import tensorflow_datasets as tfds\n",
    "from Classifier import Classifier\n",
    "from DataGenerator import DataGenerator\n",
    "\n",
    "seed = 42"
   ]
  },
  {
   "cell_type": "markdown",
   "id": "dc3f7587",
   "metadata": {},
   "source": [
    "# prepare train, val, test datasets"
   ]
  },
  {
   "cell_type": "code",
   "execution_count": 2,
   "id": "fe1c2b60",
   "metadata": {},
   "outputs": [],
   "source": [
    "dataset = pd.read_csv(\"../data/players_number/train_player_numbers.csv\")\n",
    "# update the path to the images\n",
    "dataset[\"filepath\"] = dataset[\"filepath\"].apply(lambda x: \"../data/players_number/\"+x)"
   ]
  },
  {
   "cell_type": "code",
   "execution_count": 3,
   "id": "86eb33ce",
   "metadata": {},
   "outputs": [
    {
     "name": "stdout",
     "output_type": "stream",
     "text": [
      "       filename  video_frame  player  left   top  right  bottom  filepath\n",
      "label                                                                    \n",
      "0           130          130     130   130   130    130     130       130\n",
      "1            70           70      70    70    70     70      70        70\n",
      "2            99           99      99    99    99     99      99        99\n",
      "3           110          110     110   110   110    110     110       110\n",
      "4           116          116     116   116   116    116     116       116\n",
      "...         ...          ...     ...   ...   ...    ...     ...       ...\n",
      "95          552          552     552   552   552    552     552       552\n",
      "96          633          633     633   633   633    633     633       633\n",
      "97          838          838     838   838   838    838     838       838\n",
      "98         1008         1008    1008  1008  1008   1008    1008      1008\n",
      "99          735          735     735   735   735    735     735       735\n",
      "\n",
      "[100 rows x 8 columns]\n",
      "24\n"
     ]
    }
   ],
   "source": [
    "# number of samples varies for different numbers\n",
    "print(dataset.groupby(\"label\").agg(\"count\"))\n",
    "# smallest number of samples\n",
    "min_count = dataset.groupby(\"label\").agg(\"count\").min()[\"filename\"]\n",
    "print(min_count)"
   ]
  },
  {
   "cell_type": "code",
   "execution_count": 4,
   "id": "b20a9e01",
   "metadata": {},
   "outputs": [],
   "source": [
    "# randomly sample n samples with n=smallest number of samples \n",
    "subset = dataset.groupby(\"label\").sample(n=min_count, replace=False, random_state=seed)"
   ]
  },
  {
   "cell_type": "code",
   "execution_count": 5,
   "id": "760ef43f",
   "metadata": {},
   "outputs": [],
   "source": [
    "# one-hot encoding to use categorical cross entropy, not needed if sparse cat cross entropy\n",
    "subset = pd.concat([subset, pd.get_dummies(subset[\"label\"], prefix=\"n\")], axis=1)"
   ]
  },
  {
   "cell_type": "code",
   "execution_count": 6,
   "id": "42a7abff",
   "metadata": {},
   "outputs": [],
   "source": [
    "onehot_labels = [f\"n_{i}\" for i in range(100)]"
   ]
  },
  {
   "cell_type": "code",
   "execution_count": 7,
   "id": "60bc9881",
   "metadata": {},
   "outputs": [],
   "source": [
    "train, test = train_test_split(subset, test_size=0.3, random_state=seed, shuffle=True)\n",
    "test, val = train_test_split(test, test_size=0.3, random_state=seed, shuffle=True)"
   ]
  },
  {
   "cell_type": "markdown",
   "id": "daa72a9a",
   "metadata": {},
   "source": [
    "**make TF data generators**"
   ]
  },
  {
   "cell_type": "code",
   "execution_count": 11,
   "id": "ae049f26",
   "metadata": {},
   "outputs": [
    {
     "name": "stderr",
     "output_type": "stream",
     "text": [
      "2022-01-03 10:21:56.860993: I tensorflow/core/platform/cpu_feature_guard.cc:142] This TensorFlow binary is optimized with oneAPI Deep Neural Network Library (oneDNN) to use the following CPU instructions in performance-critical operations:  SSE4.1 SSE4.2 AVX AVX2 FMA\n",
      "To enable them in other operations, rebuild TensorFlow with the appropriate compiler flags.\n"
     ]
    }
   ],
   "source": [
    "DG = DataGenerator()\n",
    "\n",
    "y_key = \"label\" #onehot_labels\n",
    "\n",
    "train_ds = DG.get_dataset(\n",
    "    filenames=train[\"filepath\"].to_numpy(), \n",
    "    labels=train[y_key].to_numpy(), \n",
    "    batch_size=5, \n",
    "    n_prefetch=1,\n",
    "    training=True\n",
    ")\n",
    "\n",
    "val_ds = DG.get_dataset(\n",
    "    filenames=val[\"filepath\"].to_numpy(), \n",
    "    labels=val[y_key].to_numpy())\n",
    "\n",
    "test_ds = DG.get_dataset(\n",
    "    filenames=test[\"filepath\"].to_numpy(), \n",
    "    labels=test[y_key].to_numpy())"
   ]
  },
  {
   "cell_type": "markdown",
   "id": "79cc931a",
   "metadata": {},
   "source": [
    "**load double MNIST datasetto pretrain the network on a larger dataset**\n",
    "\n",
    "https://github.com/shaohua0116/MultiDigitMNIST"
   ]
  },
  {
   "cell_type": "code",
   "execution_count": 8,
   "id": "bc83f7ff",
   "metadata": {},
   "outputs": [],
   "source": [
    "def get_files(path, extensions=(\".png\", \".jpeg\", \".jpg\")):\n",
    "    results = []\n",
    "    for r, d, files in os.walk(path):\n",
    "        for f in files:\n",
    "            if f.endswith(extensions):\n",
    "                results.append(os.path.join(r, f))\n",
    "    return results\n",
    "\n",
    "pngs = get_files(path=\"../data/double_mnist_seed_123_image_size_64_64\", extensions=(\".png\"))\n",
    "ds = []\n",
    "for png in pngs:\n",
    "    basename = os.path.splitext(os.path.basename(png))[0]\n",
    "    label = basename.split(\"_\")[-1]\n",
    "    ds.append([png, int(label), int(label[0]), int(label[1])])\n",
    "ds = pd.DataFrame(ds, columns=[\"path\", \"group\", \"digit_1\", \"digit_2\"])"
   ]
  },
  {
   "cell_type": "code",
   "execution_count": 9,
   "id": "a3fae113",
   "metadata": {},
   "outputs": [],
   "source": [
    "train = ds.groupby(\"group\").sample(frac=0.9, replace=False)\n",
    "test = ds.drop(index=train.index)"
   ]
  },
  {
   "cell_type": "code",
   "execution_count": 12,
   "id": "d53d7666",
   "metadata": {},
   "outputs": [],
   "source": [
    "DG = DataGenerator()\n",
    "\n",
    "y_key = \"label\" #onehot_labels\n",
    "\n",
    "train_ds = DG.get_dataset(\n",
    "    filenames=train[\"path\"].to_numpy(), \n",
    "    labels=(train[\"digit_1\"].to_numpy(), train[\"digit_2\"].to_numpy()), \n",
    "    batch_size=32, \n",
    "    n_prefetch=1,\n",
    "    training=True\n",
    ")\n",
    "\n",
    "val_ds = DG.get_dataset(\n",
    "    filenames=test[\"path\"].to_numpy(), \n",
    "    labels=(test[\"digit_1\"].to_numpy(), test[\"digit_2\"].to_numpy())\n",
    ")\n"
   ]
  },
  {
   "cell_type": "markdown",
   "id": "c84256ab",
   "metadata": {},
   "source": [
    "# Make classifier"
   ]
  },
  {
   "cell_type": "code",
   "execution_count": null,
   "id": "ea4f9c47",
   "metadata": {},
   "outputs": [
    {
     "name": "stdout",
     "output_type": "stream",
     "text": [
      "Epoch 1/50\n",
      "2813/2813 [==============================] - 157s 56ms/step - loss: 2.3035 - dense_2_loss: 2.3032 - dense_3_loss: 2.3039 - dense_2_accuracy: 0.1093 - dense_3_accuracy: 0.1138 - val_loss: 2.2877 - val_dense_2_loss: 2.2864 - val_dense_3_loss: 2.2890 - val_dense_2_accuracy: 0.1304 - val_dense_3_accuracy: 0.1367\n",
      "Epoch 2/50\n",
      "2813/2813 [==============================] - 134s 48ms/step - loss: 2.2751 - dense_2_loss: 2.2744 - dense_3_loss: 2.2759 - dense_2_accuracy: 0.1364 - dense_3_accuracy: 0.1417 - val_loss: 2.2493 - val_dense_2_loss: 2.2477 - val_dense_3_loss: 2.2509 - val_dense_2_accuracy: 0.2061 - val_dense_3_accuracy: 0.1941\n",
      "Epoch 3/50\n",
      "2813/2813 [==============================] - 135s 48ms/step - loss: 2.2074 - dense_2_loss: 2.2055 - dense_3_loss: 2.2092 - dense_2_accuracy: 0.1966 - dense_3_accuracy: 0.1964 - val_loss: 2.1188 - val_dense_2_loss: 2.1163 - val_dense_3_loss: 2.1214 - val_dense_2_accuracy: 0.2793 - val_dense_3_accuracy: 0.2747\n",
      "Epoch 4/50\n",
      "2813/2813 [==============================] - 133s 47ms/step - loss: 2.0862 - dense_2_loss: 2.0849 - dense_3_loss: 2.0875 - dense_2_accuracy: 0.2524 - dense_3_accuracy: 0.2510 - val_loss: 1.9653 - val_dense_2_loss: 1.9618 - val_dense_3_loss: 1.9687 - val_dense_2_accuracy: 0.3207 - val_dense_3_accuracy: 0.3213\n",
      "Epoch 5/50\n",
      "2813/2813 [==============================] - 135s 48ms/step - loss: 1.9798 - dense_2_loss: 1.9765 - dense_3_loss: 1.9830 - dense_2_accuracy: 0.2926 - dense_3_accuracy: 0.2891 - val_loss: 1.8616 - val_dense_2_loss: 1.8597 - val_dense_3_loss: 1.8635 - val_dense_2_accuracy: 0.3626 - val_dense_3_accuracy: 0.3623\n",
      "Epoch 6/50\n",
      "2813/2813 [==============================] - 135s 48ms/step - loss: 1.8983 - dense_2_loss: 1.8947 - dense_3_loss: 1.9018 - dense_2_accuracy: 0.3225 - dense_3_accuracy: 0.3198 - val_loss: 1.7733 - val_dense_2_loss: 1.7703 - val_dense_3_loss: 1.7764 - val_dense_2_accuracy: 0.4091 - val_dense_3_accuracy: 0.3993\n",
      "Epoch 7/50\n",
      "2813/2813 [==============================] - 132s 47ms/step - loss: 1.8164 - dense_2_loss: 1.8144 - dense_3_loss: 1.8183 - dense_2_accuracy: 0.3573 - dense_3_accuracy: 0.3533 - val_loss: 1.6790 - val_dense_2_loss: 1.6758 - val_dense_3_loss: 1.6823 - val_dense_2_accuracy: 0.4492 - val_dense_3_accuracy: 0.4399\n",
      "Epoch 8/50\n",
      "2813/2813 [==============================] - 135s 48ms/step - loss: 1.7170 - dense_2_loss: 1.7150 - dense_3_loss: 1.7191 - dense_2_accuracy: 0.3969 - dense_3_accuracy: 0.3928 - val_loss: 1.5557 - val_dense_2_loss: 1.5517 - val_dense_3_loss: 1.5596 - val_dense_2_accuracy: 0.5009 - val_dense_3_accuracy: 0.4921\n",
      "Epoch 9/50\n",
      "2813/2813 [==============================] - 135s 48ms/step - loss: 1.5947 - dense_2_loss: 1.5923 - dense_3_loss: 1.5971 - dense_2_accuracy: 0.4461 - dense_3_accuracy: 0.4397 - val_loss: 1.4084 - val_dense_2_loss: 1.4027 - val_dense_3_loss: 1.4141 - val_dense_2_accuracy: 0.5601 - val_dense_3_accuracy: 0.5466\n",
      "Epoch 10/50\n",
      "2813/2813 [==============================] - 135s 48ms/step - loss: 1.4606 - dense_2_loss: 1.4574 - dense_3_loss: 1.4637 - dense_2_accuracy: 0.4939 - dense_3_accuracy: 0.4905 - val_loss: 1.2630 - val_dense_2_loss: 1.2579 - val_dense_3_loss: 1.2682 - val_dense_2_accuracy: 0.6114 - val_dense_3_accuracy: 0.6033\n",
      "Epoch 11/50\n",
      "2813/2813 [==============================] - 135s 48ms/step - loss: 1.3393 - dense_2_loss: 1.3366 - dense_3_loss: 1.3420 - dense_2_accuracy: 0.5390 - dense_3_accuracy: 0.5359 - val_loss: 1.1397 - val_dense_2_loss: 1.1328 - val_dense_3_loss: 1.1467 - val_dense_2_accuracy: 0.6561 - val_dense_3_accuracy: 0.6461\n",
      "Epoch 12/50\n",
      "2813/2813 [==============================] - 136s 48ms/step - loss: 1.2376 - dense_2_loss: 1.2351 - dense_3_loss: 1.2401 - dense_2_accuracy: 0.5773 - dense_3_accuracy: 0.5743 - val_loss: 1.0413 - val_dense_2_loss: 1.0365 - val_dense_3_loss: 1.0462 - val_dense_2_accuracy: 0.6875 - val_dense_3_accuracy: 0.6828\n",
      "Epoch 13/50\n",
      "2813/2813 [==============================] - 136s 48ms/step - loss: 1.1542 - dense_2_loss: 1.1522 - dense_3_loss: 1.1562 - dense_2_accuracy: 0.6093 - dense_3_accuracy: 0.6062 - val_loss: 0.9613 - val_dense_2_loss: 0.9562 - val_dense_3_loss: 0.9664 - val_dense_2_accuracy: 0.7127 - val_dense_3_accuracy: 0.7097\n",
      "Epoch 14/50\n",
      "2813/2813 [==============================] - 138s 49ms/step - loss: 1.0882 - dense_2_loss: 1.0879 - dense_3_loss: 1.0885 - dense_2_accuracy: 0.6320 - dense_3_accuracy: 0.6333 - val_loss: 0.8962 - val_dense_2_loss: 0.8921 - val_dense_3_loss: 0.9003 - val_dense_2_accuracy: 0.7384 - val_dense_3_accuracy: 0.7290\n",
      "Epoch 15/50\n",
      "2813/2813 [==============================] - 137s 49ms/step - loss: 1.0293 - dense_2_loss: 1.0250 - dense_3_loss: 1.0336 - dense_2_accuracy: 0.6582 - dense_3_accuracy: 0.6519 - val_loss: 0.8392 - val_dense_2_loss: 0.8345 - val_dense_3_loss: 0.8439 - val_dense_2_accuracy: 0.7555 - val_dense_3_accuracy: 0.7503\n",
      "Epoch 16/50\n",
      "2813/2813 [==============================] - 136s 48ms/step - loss: 0.9803 - dense_2_loss: 0.9773 - dense_3_loss: 0.9832 - dense_2_accuracy: 0.6762 - dense_3_accuracy: 0.6732 - val_loss: 0.7938 - val_dense_2_loss: 0.7887 - val_dense_3_loss: 0.7989 - val_dense_2_accuracy: 0.7744 - val_dense_3_accuracy: 0.7672\n",
      "Epoch 17/50\n",
      "2813/2813 [==============================] - 138s 49ms/step - loss: 0.9381 - dense_2_loss: 0.9351 - dense_3_loss: 0.9412 - dense_2_accuracy: 0.6914 - dense_3_accuracy: 0.6874 - val_loss: 0.7511 - val_dense_2_loss: 0.7463 - val_dense_3_loss: 0.7559 - val_dense_2_accuracy: 0.7902 - val_dense_3_accuracy: 0.7778\n",
      "Epoch 18/50\n",
      "2813/2813 [==============================] - 138s 49ms/step - loss: 0.9013 - dense_2_loss: 0.8984 - dense_3_loss: 0.9042 - dense_2_accuracy: 0.7051 - dense_3_accuracy: 0.7032 - val_loss: 0.7163 - val_dense_2_loss: 0.7108 - val_dense_3_loss: 0.7219 - val_dense_2_accuracy: 0.8008 - val_dense_3_accuracy: 0.7908\n",
      "Epoch 19/50\n",
      "2813/2813 [==============================] - 136s 48ms/step - loss: 0.8683 - dense_2_loss: 0.8651 - dense_3_loss: 0.8716 - dense_2_accuracy: 0.7166 - dense_3_accuracy: 0.7154 - val_loss: 0.6839 - val_dense_2_loss: 0.6782 - val_dense_3_loss: 0.6895 - val_dense_2_accuracy: 0.8101 - val_dense_3_accuracy: 0.8035\n",
      "Epoch 20/50\n",
      "2813/2813 [==============================] - 137s 49ms/step - loss: 0.8396 - dense_2_loss: 0.8351 - dense_3_loss: 0.8440 - dense_2_accuracy: 0.7274 - dense_3_accuracy: 0.7250 - val_loss: 0.6532 - val_dense_2_loss: 0.6479 - val_dense_3_loss: 0.6585 - val_dense_2_accuracy: 0.8217 - val_dense_3_accuracy: 0.8153\n",
      "Epoch 21/50\n",
      "2813/2813 [==============================] - 137s 48ms/step - loss: 0.8106 - dense_2_loss: 0.8058 - dense_3_loss: 0.8154 - dense_2_accuracy: 0.7396 - dense_3_accuracy: 0.7361 - val_loss: 0.6299 - val_dense_2_loss: 0.6254 - val_dense_3_loss: 0.6343 - val_dense_2_accuracy: 0.8284 - val_dense_3_accuracy: 0.8210\n",
      "Epoch 22/50\n",
      "2813/2813 [==============================] - 137s 49ms/step - loss: 0.7866 - dense_2_loss: 0.7807 - dense_3_loss: 0.7924 - dense_2_accuracy: 0.7486 - dense_3_accuracy: 0.7429 - val_loss: 0.6049 - val_dense_2_loss: 0.5993 - val_dense_3_loss: 0.6104 - val_dense_2_accuracy: 0.8369 - val_dense_3_accuracy: 0.8281\n",
      "Epoch 23/50\n",
      "2813/2813 [==============================] - 138s 49ms/step - loss: 0.7623 - dense_2_loss: 0.7567 - dense_3_loss: 0.7679 - dense_2_accuracy: 0.7548 - dense_3_accuracy: 0.7523 - val_loss: 0.5825 - val_dense_2_loss: 0.5781 - val_dense_3_loss: 0.5870 - val_dense_2_accuracy: 0.8432 - val_dense_3_accuracy: 0.8326\n",
      "Epoch 24/50\n",
      "2813/2813 [==============================] - 135s 48ms/step - loss: 0.7444 - dense_2_loss: 0.7440 - dense_3_loss: 0.7449 - dense_2_accuracy: 0.7602 - dense_3_accuracy: 0.7613 - val_loss: 0.5626 - val_dense_2_loss: 0.5595 - val_dense_3_loss: 0.5656 - val_dense_2_accuracy: 0.8493 - val_dense_3_accuracy: 0.8410\n",
      "Epoch 25/50\n",
      "2813/2813 [==============================] - 135s 48ms/step - loss: 0.7253 - dense_2_loss: 0.7227 - dense_3_loss: 0.7279 - dense_2_accuracy: 0.7686 - dense_3_accuracy: 0.7651 - val_loss: 0.5443 - val_dense_2_loss: 0.5396 - val_dense_3_loss: 0.5489 - val_dense_2_accuracy: 0.8543 - val_dense_3_accuracy: 0.8452\n",
      "Epoch 26/50\n"
     ]
    },
    {
     "name": "stdout",
     "output_type": "stream",
     "text": [
      "2813/2813 [==============================] - 136s 48ms/step - loss: 0.7047 - dense_2_loss: 0.7009 - dense_3_loss: 0.7085 - dense_2_accuracy: 0.7765 - dense_3_accuracy: 0.7726 - val_loss: 0.5272 - val_dense_2_loss: 0.5233 - val_dense_3_loss: 0.5311 - val_dense_2_accuracy: 0.8583 - val_dense_3_accuracy: 0.8510\n",
      "Epoch 27/50\n",
      "2813/2813 [==============================] - 138s 49ms/step - loss: 0.6902 - dense_2_loss: 0.6859 - dense_3_loss: 0.6945 - dense_2_accuracy: 0.7809 - dense_3_accuracy: 0.7773 - val_loss: 0.5130 - val_dense_2_loss: 0.5077 - val_dense_3_loss: 0.5183 - val_dense_2_accuracy: 0.8650 - val_dense_3_accuracy: 0.8554\n",
      "Epoch 28/50\n",
      "2813/2813 [==============================] - 134s 48ms/step - loss: 0.6720 - dense_2_loss: 0.6681 - dense_3_loss: 0.6759 - dense_2_accuracy: 0.7877 - dense_3_accuracy: 0.7847 - val_loss: 0.4950 - val_dense_2_loss: 0.4908 - val_dense_3_loss: 0.4991 - val_dense_2_accuracy: 0.8691 - val_dense_3_accuracy: 0.8602\n",
      "Epoch 29/50\n",
      "2813/2813 [==============================] - 136s 48ms/step - loss: 0.6614 - dense_2_loss: 0.6588 - dense_3_loss: 0.6639 - dense_2_accuracy: 0.7898 - dense_3_accuracy: 0.7896 - val_loss: 0.4798 - val_dense_2_loss: 0.4765 - val_dense_3_loss: 0.4830 - val_dense_2_accuracy: 0.8755 - val_dense_3_accuracy: 0.8673\n",
      "Epoch 30/50\n",
      "2813/2813 [==============================] - 136s 48ms/step - loss: 0.6427 - dense_2_loss: 0.6393 - dense_3_loss: 0.6461 - dense_2_accuracy: 0.7965 - dense_3_accuracy: 0.7943 - val_loss: 0.4688 - val_dense_2_loss: 0.4668 - val_dense_3_loss: 0.4709 - val_dense_2_accuracy: 0.8750 - val_dense_3_accuracy: 0.8715\n",
      "Epoch 31/50\n",
      "2813/2813 [==============================] - 137s 49ms/step - loss: 0.6303 - dense_2_loss: 0.6273 - dense_3_loss: 0.6333 - dense_2_accuracy: 0.8005 - dense_3_accuracy: 0.7974 - val_loss: 0.4533 - val_dense_2_loss: 0.4511 - val_dense_3_loss: 0.4556 - val_dense_2_accuracy: 0.8806 - val_dense_3_accuracy: 0.8769\n",
      "Epoch 32/50\n",
      "2813/2813 [==============================] - 137s 49ms/step - loss: 0.6162 - dense_2_loss: 0.6142 - dense_3_loss: 0.6183 - dense_2_accuracy: 0.8060 - dense_3_accuracy: 0.8047 - val_loss: 0.4400 - val_dense_2_loss: 0.4366 - val_dense_3_loss: 0.4434 - val_dense_2_accuracy: 0.8859 - val_dense_3_accuracy: 0.8804\n",
      "Epoch 33/50\n",
      "2813/2813 [==============================] - 135s 48ms/step - loss: 0.6049 - dense_2_loss: 0.6041 - dense_3_loss: 0.6056 - dense_2_accuracy: 0.8078 - dense_3_accuracy: 0.8082 - val_loss: 0.4299 - val_dense_2_loss: 0.4284 - val_dense_3_loss: 0.4314 - val_dense_2_accuracy: 0.8876 - val_dense_3_accuracy: 0.8857\n",
      "Epoch 34/50\n",
      "2813/2813 [==============================] - 137s 49ms/step - loss: 0.5927 - dense_2_loss: 0.5899 - dense_3_loss: 0.5956 - dense_2_accuracy: 0.8124 - dense_3_accuracy: 0.8116 - val_loss: 0.4198 - val_dense_2_loss: 0.4171 - val_dense_3_loss: 0.4225 - val_dense_2_accuracy: 0.8913 - val_dense_3_accuracy: 0.8841\n",
      "Epoch 35/50\n",
      "2813/2813 [==============================] - 136s 48ms/step - loss: 0.5799 - dense_2_loss: 0.5771 - dense_3_loss: 0.5827 - dense_2_accuracy: 0.8193 - dense_3_accuracy: 0.8161 - val_loss: 0.4069 - val_dense_2_loss: 0.4063 - val_dense_3_loss: 0.4075 - val_dense_2_accuracy: 0.8927 - val_dense_3_accuracy: 0.8919\n",
      "Epoch 36/50\n",
      "2813/2813 [==============================] - 137s 49ms/step - loss: 0.5743 - dense_2_loss: 0.5698 - dense_3_loss: 0.5788 - dense_2_accuracy: 0.8193 - dense_3_accuracy: 0.8166 - val_loss: 0.3989 - val_dense_2_loss: 0.3975 - val_dense_3_loss: 0.4003 - val_dense_2_accuracy: 0.8951 - val_dense_3_accuracy: 0.8935\n",
      "Epoch 37/50\n",
      "2813/2813 [==============================] - 136s 48ms/step - loss: 0.5600 - dense_2_loss: 0.5581 - dense_3_loss: 0.5619 - dense_2_accuracy: 0.8246 - dense_3_accuracy: 0.8225 - val_loss: 0.3885 - val_dense_2_loss: 0.3875 - val_dense_3_loss: 0.3896 - val_dense_2_accuracy: 0.8985 - val_dense_3_accuracy: 0.8970\n",
      "Epoch 38/50\n",
      "2813/2813 [==============================] - 135s 48ms/step - loss: 0.5524 - dense_2_loss: 0.5501 - dense_3_loss: 0.5547 - dense_2_accuracy: 0.8274 - dense_3_accuracy: 0.8245 - val_loss: 0.3827 - val_dense_2_loss: 0.3818 - val_dense_3_loss: 0.3835 - val_dense_2_accuracy: 0.9009 - val_dense_3_accuracy: 0.8996\n",
      "Epoch 39/50\n",
      "2813/2813 [==============================] - 152s 54ms/step - loss: 0.5447 - dense_2_loss: 0.5419 - dense_3_loss: 0.5476 - dense_2_accuracy: 0.8310 - dense_3_accuracy: 0.8278 - val_loss: 0.3741 - val_dense_2_loss: 0.3746 - val_dense_3_loss: 0.3735 - val_dense_2_accuracy: 0.9025 - val_dense_3_accuracy: 0.9006\n",
      "Epoch 40/50\n",
      "1486/2813 [==============>...............] - ETA: 1:24 - loss: 0.5323 - dense_2_loss: 0.5324 - dense_3_loss: 0.5322 - dense_2_accuracy: 0.8333 - dense_3_accuracy: 0.8327"
     ]
    }
   ],
   "source": [
    "classifier = Classifier()\n",
    "opt = tf.keras.optimizers.SGD(learning_rate=0.0001, momentum=0.9)\n",
    "classifier.model.compile(loss=[\"sparse_categorical_crossentropy\", \"sparse_categorical_crossentropy\"],\n",
    "    loss_weights=[0.5, 0.5],\n",
    "    optimizer=opt, \n",
    "    metrics=[\"accuracy\"])\n",
    "\n",
    "# callbacks\n",
    "checkpoint_cb = tf.keras.callbacks.ModelCheckpoint(\"./model_weights/model.h5\", save_best_only=True)\n",
    "early_stopping_cb = tf.keras.callbacks.EarlyStopping(patience=10, restore_best_weights=True)\n",
    "\n",
    "classifier.model.fit(train_ds, validation_data=val_ds, epochs=50, callbacks=[checkpoint_cb, early_stopping_cb])"
   ]
  },
  {
   "cell_type": "markdown",
   "id": "79f5fb1d",
   "metadata": {},
   "source": [
    "# try transfer learning from xception pretrained on imagenet\n",
    "\n",
    "classify first and second digit separately"
   ]
  },
  {
   "cell_type": "code",
   "execution_count": 89,
   "id": "ec3fe3b1",
   "metadata": {},
   "outputs": [],
   "source": [
    "# split the number into 2 digits\n",
    "subset[\"first_digit\"] = subset[\"label\"].apply(lambda x: int(f'{x:02d}'[0]))\n",
    "subset[\"second_digit\"] = subset[\"label\"].apply(lambda x: int(f'{x:02d}'[1]))\n",
    "\n",
    "\n",
    "train, test = train_test_split(subset, test_size=0.3, random_state=seed, shuffle=True)\n",
    "test, val = train_test_split(test, test_size=0.3, random_state=seed, shuffle=True)"
   ]
  },
  {
   "cell_type": "code",
   "execution_count": 101,
   "id": "f05daae1",
   "metadata": {},
   "outputs": [],
   "source": [
    "DG = DataGenerator()\n",
    "\n",
    "train_ds = DG.get_dataset(\n",
    "    filenames=train[\"filepath\"].to_numpy(), \n",
    "    labels=(train[\"first_digit\"].to_numpy(), train[\"second_digit\"].to_numpy()),\n",
    "    batch_size=5, \n",
    "    n_prefetch=1,\n",
    "    training=True\n",
    ")\n",
    "\n",
    "val_ds = DG.get_dataset(\n",
    "    filenames=val[\"filepath\"].to_numpy(), \n",
    "    labels=(val[\"first_digit\"].to_numpy(), val[\"second_digit\"].to_numpy()))\n",
    "\n",
    "test_ds = DG.get_dataset(\n",
    "    filenames=test[\"filepath\"].to_numpy(), \n",
    "    labels=(test[\"first_digit\"].to_numpy(), test[\"second_digit\"].to_numpy()))"
   ]
  },
  {
   "cell_type": "code",
   "execution_count": 102,
   "id": "76e57b32",
   "metadata": {},
   "outputs": [],
   "source": [
    "base_model = tf.keras.applications.xception.Xception(weights=\"imagenet\", include_top=False)\n",
    "# base_modle = tf.keras.applications.EfficientNetB0(weights=\"imagenet\", include_top=False)\n",
    "\n",
    "avg = tf.keras.layers.GlobalAveragePooling2D()(base_model.output)\n",
    "first_digit_output = tf.keras.layers.Dense(10, activation=\"softmax\")(avg)\n",
    "second_digit_output = tf.keras.layers.Dense(10, activation=\"softmax\")(avg)\n",
    "model = tf.keras.Model(inputs=base_model.input, outputs=[first_digit_output, second_digit_output])\n",
    "\n",
    "# freeze the weights\n",
    "for layer in base_model.layers:\n",
    "    layer.trainable = False"
   ]
  },
  {
   "cell_type": "code",
   "execution_count": 103,
   "id": "52fa45d0",
   "metadata": {},
   "outputs": [],
   "source": [
    "optimizer = tf.keras.optimizers.SGD(learning_rate=0.01, momentum=0.9, decay=0.001)\n",
    "model.compile(\n",
    "    loss=[\"sparse_categorical_crossentropy\", \"sparse_categorical_crossentropy\"],\n",
    "    loss_weights=[0.5, 0.5],\n",
    "    optimizer=optimizer, \n",
    "    metrics=[\"accuracy\"]\n",
    ")"
   ]
  },
  {
   "cell_type": "code",
   "execution_count": 104,
   "id": "d06c7188",
   "metadata": {
    "scrolled": true
   },
   "outputs": [
    {
     "name": "stdout",
     "output_type": "stream",
     "text": [
      "Epoch 1/5\n",
      "336/336 [==============================] - 18s 48ms/step - loss: 2.4620 - dense_24_loss: 2.4265 - dense_25_loss: 2.4974 - dense_24_accuracy: 0.1423 - dense_25_accuracy: 0.1173 - val_loss: 2.4705 - val_dense_24_loss: 2.4083 - val_dense_25_loss: 2.5327 - val_dense_24_accuracy: 0.1713 - val_dense_25_accuracy: 0.1481\n",
      "Epoch 2/5\n",
      "336/336 [==============================] - 17s 51ms/step - loss: 2.1838 - dense_24_loss: 2.1465 - dense_25_loss: 2.2210 - dense_24_accuracy: 0.2351 - dense_25_accuracy: 0.2012 - val_loss: 2.3844 - val_dense_24_loss: 2.3225 - val_dense_25_loss: 2.4462 - val_dense_24_accuracy: 0.1574 - val_dense_25_accuracy: 0.1296\n",
      "Epoch 3/5\n",
      "336/336 [==============================] - 16s 48ms/step - loss: 2.0189 - dense_24_loss: 1.9891 - dense_25_loss: 2.0487 - dense_24_accuracy: 0.2958 - dense_25_accuracy: 0.2774 - val_loss: 2.3838 - val_dense_24_loss: 2.3241 - val_dense_25_loss: 2.4436 - val_dense_24_accuracy: 0.1991 - val_dense_25_accuracy: 0.1389\n",
      "Epoch 4/5\n",
      "336/336 [==============================] - 18s 53ms/step - loss: 1.9088 - dense_24_loss: 1.8870 - dense_25_loss: 1.9306 - dense_24_accuracy: 0.3435 - dense_25_accuracy: 0.3405 - val_loss: 2.3864 - val_dense_24_loss: 2.3586 - val_dense_25_loss: 2.4143 - val_dense_24_accuracy: 0.1944 - val_dense_25_accuracy: 0.1481\n",
      "Epoch 5/5\n",
      "336/336 [==============================] - 20s 59ms/step - loss: 1.8374 - dense_24_loss: 1.8174 - dense_25_loss: 1.8574 - dense_24_accuracy: 0.3887 - dense_25_accuracy: 0.3786 - val_loss: 2.3382 - val_dense_24_loss: 2.2519 - val_dense_25_loss: 2.4245 - val_dense_24_accuracy: 0.2269 - val_dense_25_accuracy: 0.1574\n"
     ]
    }
   ],
   "source": [
    "history = model.fit(train_ds, epochs=5, validation_data=val_ds)"
   ]
  },
  {
   "cell_type": "code",
   "execution_count": null,
   "id": "9431bb7a",
   "metadata": {},
   "outputs": [],
   "source": []
  }
 ],
 "metadata": {
  "kernelspec": {
   "display_name": "Python 3 (ipykernel)",
   "language": "python",
   "name": "python3"
  },
  "language_info": {
   "codemirror_mode": {
    "name": "ipython",
    "version": 3
   },
   "file_extension": ".py",
   "mimetype": "text/x-python",
   "name": "python",
   "nbconvert_exporter": "python",
   "pygments_lexer": "ipython3",
   "version": "3.9.7"
  }
 },
 "nbformat": 4,
 "nbformat_minor": 5
}
