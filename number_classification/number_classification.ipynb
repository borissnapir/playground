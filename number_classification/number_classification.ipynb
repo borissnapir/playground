{
 "cells": [
  {
   "cell_type": "code",
   "execution_count": 1,
   "id": "a8161fa1",
   "metadata": {},
   "outputs": [],
   "source": [
    "!pip install tensorflow_datasets -q"
   ]
  },
  {
   "cell_type": "code",
   "execution_count": 2,
   "id": "b670ae38",
   "metadata": {},
   "outputs": [],
   "source": [
    "import os\n",
    "import numpy as np\n",
    "import pandas as pd\n",
    "import matplotlib.pyplot as plt\n",
    "\n",
    "from sklearn.model_selection import train_test_split\n",
    "\n",
    "import tensorflow as tf\n",
    "import tensorflow_datasets as tfds\n",
    "from Classifier import Classifier\n",
    "from DataGenerator import DataGenerator\n",
    "\n",
    "\n",
    "def set_seed(seed=42):\n",
    "#     random.seed(seed)\n",
    "    os.environ[\"PYTHONHASHSEED\"] = str(seed)\n",
    "    np.random.seed(seed)\n",
    "    tf.random.set_seed(seed)\n",
    "\n",
    "seed = 42\n",
    "set_seed(seed)\n"
   ]
  },
  {
   "cell_type": "markdown",
   "id": "dc3f7587",
   "metadata": {},
   "source": [
    "# prepare train, val, test sets from jersey dataset"
   ]
  },
  {
   "cell_type": "code",
   "execution_count": 3,
   "id": "fe1c2b60",
   "metadata": {},
   "outputs": [],
   "source": [
    "dataset = pd.read_csv(\"../data/players_number/train_player_numbers.csv\")\n",
    "# update the path to the images\n",
    "dataset[\"filepath\"] = dataset[\"filepath\"].apply(lambda x: \"../data/players_number/\"+x)"
   ]
  },
  {
   "cell_type": "code",
   "execution_count": 4,
   "id": "86eb33ce",
   "metadata": {},
   "outputs": [
    {
     "name": "stdout",
     "output_type": "stream",
     "text": [
      "       filename  video_frame  player  left   top  right  bottom  filepath\n",
      "label                                                                    \n",
      "0           130          130     130   130   130    130     130       130\n",
      "1            70           70      70    70    70     70      70        70\n",
      "2            99           99      99    99    99     99      99        99\n",
      "3           110          110     110   110   110    110     110       110\n",
      "4           116          116     116   116   116    116     116       116\n",
      "...         ...          ...     ...   ...   ...    ...     ...       ...\n",
      "95          552          552     552   552   552    552     552       552\n",
      "96          633          633     633   633   633    633     633       633\n",
      "97          838          838     838   838   838    838     838       838\n",
      "98         1008         1008    1008  1008  1008   1008    1008      1008\n",
      "99          735          735     735   735   735    735     735       735\n",
      "\n",
      "[100 rows x 8 columns]\n",
      "24\n"
     ]
    }
   ],
   "source": [
    "# number of samples varies for different numbers\n",
    "print(dataset.groupby(\"label\").agg(\"count\"))\n",
    "# smallest number of samples\n",
    "min_count = dataset.groupby(\"label\").agg(\"count\").min()[\"filename\"]\n",
    "print(min_count)"
   ]
  },
  {
   "cell_type": "code",
   "execution_count": 5,
   "id": "b20a9e01",
   "metadata": {},
   "outputs": [],
   "source": [
    "# randomly sample n samples with n=smallest number of samples \n",
    "subset = dataset.groupby(\"label\").sample(n=min_count, replace=False, random_state=seed)"
   ]
  },
  {
   "cell_type": "code",
   "execution_count": 6,
   "id": "760ef43f",
   "metadata": {},
   "outputs": [],
   "source": [
    "# one-hot encoding to use categorical cross entropy, not needed if sparse cat cross entropy\n",
    "subset = pd.concat([subset, pd.get_dummies(subset[\"label\"], prefix=\"n\")], axis=1)"
   ]
  },
  {
   "cell_type": "code",
   "execution_count": 7,
   "id": "42a7abff",
   "metadata": {},
   "outputs": [],
   "source": [
    "onehot_labels = [f\"n_{i}\" for i in range(100)]"
   ]
  },
  {
   "cell_type": "code",
   "execution_count": 8,
   "id": "295256f4",
   "metadata": {},
   "outputs": [],
   "source": [
    "# split the number into 2 digits\n",
    "subset[\"first_digit\"] = subset[\"label\"].apply(lambda x: int(f'{x:02d}'[0]))\n",
    "subset[\"second_digit\"] = subset[\"label\"].apply(lambda x: int(f'{x:02d}'[1]))"
   ]
  },
  {
   "cell_type": "code",
   "execution_count": 9,
   "id": "60bc9881",
   "metadata": {},
   "outputs": [],
   "source": [
    "train, test = train_test_split(subset, test_size=0.3, random_state=seed, shuffle=True)\n",
    "test, val = train_test_split(test, test_size=0.3, random_state=seed, shuffle=True)"
   ]
  },
  {
   "cell_type": "markdown",
   "id": "daa72a9a",
   "metadata": {},
   "source": [
    "make TF data generators"
   ]
  },
  {
   "cell_type": "code",
   "execution_count": 10,
   "id": "ae049f26",
   "metadata": {},
   "outputs": [
    {
     "name": "stderr",
     "output_type": "stream",
     "text": [
      "2022-01-05 10:28:29.512042: I tensorflow/core/platform/cpu_feature_guard.cc:142] This TensorFlow binary is optimized with oneAPI Deep Neural Network Library (oneDNN) to use the following CPU instructions in performance-critical operations:  SSE4.1 SSE4.2 AVX AVX2 FMA\n",
      "To enable them in other operations, rebuild TensorFlow with the appropriate compiler flags.\n"
     ]
    }
   ],
   "source": [
    "DG = DataGenerator()\n",
    "\n",
    "train_ds = DG.get_dataset(\n",
    "    filenames=train[\"filepath\"].to_numpy(), \n",
    "    labels=(train[\"first_digit\"].to_numpy(), train[\"second_digit\"].to_numpy()),\n",
    "    batch_size=32, \n",
    "    n_prefetch=1,\n",
    "    training=True\n",
    ")\n",
    "\n",
    "val_ds = DG.get_dataset(\n",
    "    filenames=val[\"filepath\"].to_numpy(), \n",
    "    labels=(val[\"first_digit\"].to_numpy(), val[\"second_digit\"].to_numpy()),\n",
    "    training=False\n",
    "\n",
    ")\n",
    "\n",
    "test_ds = DG.get_dataset(\n",
    "    filenames=test[\"filepath\"].to_numpy(), \n",
    "    labels=(test[\"first_digit\"].to_numpy(), test[\"second_digit\"].to_numpy()),\n",
    "    training=False\n",
    ")"
   ]
  },
  {
   "cell_type": "code",
   "execution_count": 11,
   "id": "65545997",
   "metadata": {},
   "outputs": [
    {
     "name": "stderr",
     "output_type": "stream",
     "text": [
      "2022-01-05 10:28:41.219063: I tensorflow/compiler/mlir/mlir_graph_optimization_pass.cc:185] None of the MLIR Optimization Passes are enabled (registered 2)\n"
     ]
    }
   ],
   "source": [
    "for t in train_ds:\n",
    "    break\n",
    "    "
   ]
  },
  {
   "cell_type": "code",
   "execution_count": null,
   "id": "95ecfe49",
   "metadata": {},
   "outputs": [],
   "source": []
  },
  {
   "cell_type": "markdown",
   "id": "727e88c4",
   "metadata": {},
   "source": [
    "# Prepare double MNIST dataset to pretrain the network on a larger dataset\n",
    "\n",
    "https://github.com/shaohua0116/MultiDigitMNIST"
   ]
  },
  {
   "cell_type": "code",
   "execution_count": 20,
   "id": "cacc5655",
   "metadata": {},
   "outputs": [],
   "source": [
    "def get_files(path, extensions=(\".png\", \".jpeg\", \".jpg\")):\n",
    "    results = []\n",
    "    for r, d, files in os.walk(path):\n",
    "        for f in files:\n",
    "            if f.endswith(extensions):\n",
    "                results.append(os.path.join(r, f))\n",
    "    return results\n",
    "\n",
    "pngs = get_files(path=\"../data/double_mnist_seed_123_image_size_64_64\", extensions=(\".png\"))\n",
    "ds = []\n",
    "for png in pngs:\n",
    "    basename = os.path.splitext(os.path.basename(png))[0]\n",
    "    label = basename.split(\"_\")[-1]\n",
    "    ds.append([png, int(label), int(label[0]), int(label[1])])\n",
    "ds_mnist = pd.DataFrame(ds, columns=[\"path\", \"group\", \"digit_1\", \"digit_2\"])"
   ]
  },
  {
   "cell_type": "code",
   "execution_count": 21,
   "id": "9868770f",
   "metadata": {},
   "outputs": [],
   "source": [
    "mnist_train = ds_mnist.groupby(\"group\").sample(frac=0.9, replace=False)\n",
    "mnist_test = ds_mnist.drop(index=mnist_train.index)"
   ]
  },
  {
   "cell_type": "code",
   "execution_count": 22,
   "id": "8625db20",
   "metadata": {},
   "outputs": [],
   "source": [
    "DG = DataGenerator()\n",
    "\n",
    "mnist_train = DG.get_dataset(\n",
    "    filenames=mnist_train[\"path\"].to_numpy(), \n",
    "    labels=(mnist_train[\"digit_1\"].to_numpy(), mnist_train[\"digit_2\"].to_numpy()), \n",
    "    batch_size=32, \n",
    "    n_prefetch=1,\n",
    "    training=True\n",
    ")\n",
    "\n",
    "mnist_test = DG.get_dataset(\n",
    "    filenames=mnist_test[\"path\"].to_numpy(), \n",
    "    labels=(mnist_test[\"digit_1\"].to_numpy(), mnist_test[\"digit_2\"].to_numpy())\n",
    ")\n"
   ]
  },
  {
   "cell_type": "code",
   "execution_count": 23,
   "id": "c4ddcef1",
   "metadata": {},
   "outputs": [],
   "source": [
    "t = next(iter(mnist_train))"
   ]
  },
  {
   "cell_type": "code",
   "execution_count": 36,
   "id": "60ee4151",
   "metadata": {},
   "outputs": [
    {
     "data": {
      "text/plain": [
       "(64, 64)"
      ]
     },
     "execution_count": 36,
     "metadata": {},
     "output_type": "execute_result"
    }
   ],
   "source": [
    "plt.imread(\"/workspace/workdir/projects/playground/data/double_mnist_seed_123_image_size_64_64/00/0_00.png\").shape"
   ]
  },
  {
   "cell_type": "code",
   "execution_count": 63,
   "id": "91df002c",
   "metadata": {},
   "outputs": [],
   "source": [
    "filename = \"/workspace/workdir/projects/playground/data/double_mnist_seed_123_image_size_64_64/00/0_00.png\"\n",
    "filename = \"/workspace/workdir/projects/playground/data/players_number/train_player_numbers/57583_000082_Endzone_20_H27.png\"\n",
    "image_string = tf.io.read_file(filename)\n",
    "image = tf.image.decode_jpeg(image_string, channels=1)\n",
    "# image = tf.image.convert_image_dtype(image, t/f.float32)"
   ]
  },
  {
   "cell_type": "code",
   "execution_count": 65,
   "id": "c5502aea",
   "metadata": {},
   "outputs": [
    {
     "data": {
      "text/plain": [
       "<tf.Tensor: shape=(64, 64, 1), dtype=uint8, numpy=\n",
       "array([[[108],\n",
       "        [114],\n",
       "        [114],\n",
       "        ...,\n",
       "        [114],\n",
       "        [114],\n",
       "        [114]],\n",
       "\n",
       "       [[110],\n",
       "        [112],\n",
       "        [114],\n",
       "        ...,\n",
       "        [114],\n",
       "        [110],\n",
       "        [112]],\n",
       "\n",
       "       [[114],\n",
       "        [115],\n",
       "        [115],\n",
       "        ...,\n",
       "        [108],\n",
       "        [108],\n",
       "        [104]],\n",
       "\n",
       "       ...,\n",
       "\n",
       "       [[106],\n",
       "        [104],\n",
       "        [104],\n",
       "        ...,\n",
       "        [205],\n",
       "        [128],\n",
       "        [ 89]],\n",
       "\n",
       "       [[113],\n",
       "        [117],\n",
       "        [116],\n",
       "        ...,\n",
       "        [162],\n",
       "        [178],\n",
       "        [109]],\n",
       "\n",
       "       [[116],\n",
       "        [113],\n",
       "        [113],\n",
       "        ...,\n",
       "        [ 71],\n",
       "        [132],\n",
       "        [111]]], dtype=uint8)>"
      ]
     },
     "execution_count": 65,
     "metadata": {},
     "output_type": "execute_result"
    }
   ],
   "source": [
    "image"
   ]
  },
  {
   "cell_type": "code",
   "execution_count": 60,
   "id": "c9932979",
   "metadata": {},
   "outputs": [
    {
     "data": {
      "text/plain": [
       "0.99990004"
      ]
     },
     "execution_count": 60,
     "metadata": {},
     "output_type": "execute_result"
    }
   ],
   "source": [
    "np.max(tf.image.rgb_to_grayscale(image) - image[..., 0])"
   ]
  },
  {
   "cell_type": "code",
   "execution_count": 58,
   "id": "11c21b2a",
   "metadata": {},
   "outputs": [
    {
     "data": {
      "text/plain": [
       "<tf.Tensor: shape=(64, 64, 1), dtype=uint8, numpy=\n",
       "array([[[0],\n",
       "        [0],\n",
       "        [0],\n",
       "        ...,\n",
       "        [0],\n",
       "        [0],\n",
       "        [0]],\n",
       "\n",
       "       [[0],\n",
       "        [0],\n",
       "        [0],\n",
       "        ...,\n",
       "        [0],\n",
       "        [0],\n",
       "        [0]],\n",
       "\n",
       "       [[0],\n",
       "        [0],\n",
       "        [0],\n",
       "        ...,\n",
       "        [0],\n",
       "        [0],\n",
       "        [0]],\n",
       "\n",
       "       ...,\n",
       "\n",
       "       [[0],\n",
       "        [0],\n",
       "        [0],\n",
       "        ...,\n",
       "        [0],\n",
       "        [0],\n",
       "        [0]],\n",
       "\n",
       "       [[0],\n",
       "        [0],\n",
       "        [0],\n",
       "        ...,\n",
       "        [0],\n",
       "        [0],\n",
       "        [0]],\n",
       "\n",
       "       [[0],\n",
       "        [0],\n",
       "        [0],\n",
       "        ...,\n",
       "        [0],\n",
       "        [0],\n",
       "        [0]]], dtype=uint8)>"
      ]
     },
     "execution_count": 58,
     "metadata": {},
     "output_type": "execute_result"
    }
   ],
   "source": [
    "tf.image.rgb_to_grayscale(image)"
   ]
  },
  {
   "cell_type": "code",
   "execution_count": 57,
   "id": "429d782f",
   "metadata": {},
   "outputs": [
    {
     "data": {
      "text/plain": [
       "<tf.Tensor: shape=(64, 64), dtype=uint8, numpy=\n",
       "array([[0, 0, 0, ..., 0, 0, 0],\n",
       "       [0, 0, 0, ..., 0, 0, 0],\n",
       "       [0, 0, 0, ..., 0, 0, 0],\n",
       "       ...,\n",
       "       [0, 0, 0, ..., 0, 0, 0],\n",
       "       [0, 0, 0, ..., 0, 0, 0],\n",
       "       [0, 0, 0, ..., 0, 0, 0]], dtype=uint8)>"
      ]
     },
     "execution_count": 57,
     "metadata": {},
     "output_type": "execute_result"
    }
   ],
   "source": [
    "image[..., 0]"
   ]
  },
  {
   "cell_type": "code",
   "execution_count": 41,
   "id": "64d7f1bb",
   "metadata": {},
   "outputs": [
    {
     "data": {
      "text/plain": [
       "True"
      ]
     },
     "execution_count": 41,
     "metadata": {},
     "output_type": "execute_result"
    }
   ],
   "source": [
    "np.all(image[..., 0] == image[..., 1])"
   ]
  },
  {
   "cell_type": "markdown",
   "id": "c84256ab",
   "metadata": {},
   "source": [
    "# Make classifier"
   ]
  },
  {
   "cell_type": "code",
   "execution_count": 13,
   "id": "ea4f9c47",
   "metadata": {
    "scrolled": true
   },
   "outputs": [
    {
     "name": "stdout",
     "output_type": "stream",
     "text": [
      "Epoch 1/50\n",
      "2813/2813 [==============================] - 157s 56ms/step - loss: 2.3035 - dense_2_loss: 2.3032 - dense_3_loss: 2.3039 - dense_2_accuracy: 0.1093 - dense_3_accuracy: 0.1138 - val_loss: 2.2877 - val_dense_2_loss: 2.2864 - val_dense_3_loss: 2.2890 - val_dense_2_accuracy: 0.1304 - val_dense_3_accuracy: 0.1367\n",
      "Epoch 2/50\n",
      "2813/2813 [==============================] - 134s 48ms/step - loss: 2.2751 - dense_2_loss: 2.2744 - dense_3_loss: 2.2759 - dense_2_accuracy: 0.1364 - dense_3_accuracy: 0.1417 - val_loss: 2.2493 - val_dense_2_loss: 2.2477 - val_dense_3_loss: 2.2509 - val_dense_2_accuracy: 0.2061 - val_dense_3_accuracy: 0.1941\n",
      "Epoch 3/50\n",
      "2813/2813 [==============================] - 135s 48ms/step - loss: 2.2074 - dense_2_loss: 2.2055 - dense_3_loss: 2.2092 - dense_2_accuracy: 0.1966 - dense_3_accuracy: 0.1964 - val_loss: 2.1188 - val_dense_2_loss: 2.1163 - val_dense_3_loss: 2.1214 - val_dense_2_accuracy: 0.2793 - val_dense_3_accuracy: 0.2747\n",
      "Epoch 4/50\n",
      "2813/2813 [==============================] - 133s 47ms/step - loss: 2.0862 - dense_2_loss: 2.0849 - dense_3_loss: 2.0875 - dense_2_accuracy: 0.2524 - dense_3_accuracy: 0.2510 - val_loss: 1.9653 - val_dense_2_loss: 1.9618 - val_dense_3_loss: 1.9687 - val_dense_2_accuracy: 0.3207 - val_dense_3_accuracy: 0.3213\n",
      "Epoch 5/50\n",
      "2813/2813 [==============================] - 135s 48ms/step - loss: 1.9798 - dense_2_loss: 1.9765 - dense_3_loss: 1.9830 - dense_2_accuracy: 0.2926 - dense_3_accuracy: 0.2891 - val_loss: 1.8616 - val_dense_2_loss: 1.8597 - val_dense_3_loss: 1.8635 - val_dense_2_accuracy: 0.3626 - val_dense_3_accuracy: 0.3623\n",
      "Epoch 6/50\n",
      "2813/2813 [==============================] - 135s 48ms/step - loss: 1.8983 - dense_2_loss: 1.8947 - dense_3_loss: 1.9018 - dense_2_accuracy: 0.3225 - dense_3_accuracy: 0.3198 - val_loss: 1.7733 - val_dense_2_loss: 1.7703 - val_dense_3_loss: 1.7764 - val_dense_2_accuracy: 0.4091 - val_dense_3_accuracy: 0.3993\n",
      "Epoch 7/50\n",
      "2813/2813 [==============================] - 132s 47ms/step - loss: 1.8164 - dense_2_loss: 1.8144 - dense_3_loss: 1.8183 - dense_2_accuracy: 0.3573 - dense_3_accuracy: 0.3533 - val_loss: 1.6790 - val_dense_2_loss: 1.6758 - val_dense_3_loss: 1.6823 - val_dense_2_accuracy: 0.4492 - val_dense_3_accuracy: 0.4399\n",
      "Epoch 8/50\n",
      "2813/2813 [==============================] - 135s 48ms/step - loss: 1.7170 - dense_2_loss: 1.7150 - dense_3_loss: 1.7191 - dense_2_accuracy: 0.3969 - dense_3_accuracy: 0.3928 - val_loss: 1.5557 - val_dense_2_loss: 1.5517 - val_dense_3_loss: 1.5596 - val_dense_2_accuracy: 0.5009 - val_dense_3_accuracy: 0.4921\n",
      "Epoch 9/50\n",
      "2813/2813 [==============================] - 135s 48ms/step - loss: 1.5947 - dense_2_loss: 1.5923 - dense_3_loss: 1.5971 - dense_2_accuracy: 0.4461 - dense_3_accuracy: 0.4397 - val_loss: 1.4084 - val_dense_2_loss: 1.4027 - val_dense_3_loss: 1.4141 - val_dense_2_accuracy: 0.5601 - val_dense_3_accuracy: 0.5466\n",
      "Epoch 10/50\n",
      "2813/2813 [==============================] - 135s 48ms/step - loss: 1.4606 - dense_2_loss: 1.4574 - dense_3_loss: 1.4637 - dense_2_accuracy: 0.4939 - dense_3_accuracy: 0.4905 - val_loss: 1.2630 - val_dense_2_loss: 1.2579 - val_dense_3_loss: 1.2682 - val_dense_2_accuracy: 0.6114 - val_dense_3_accuracy: 0.6033\n",
      "Epoch 11/50\n",
      "2813/2813 [==============================] - 135s 48ms/step - loss: 1.3393 - dense_2_loss: 1.3366 - dense_3_loss: 1.3420 - dense_2_accuracy: 0.5390 - dense_3_accuracy: 0.5359 - val_loss: 1.1397 - val_dense_2_loss: 1.1328 - val_dense_3_loss: 1.1467 - val_dense_2_accuracy: 0.6561 - val_dense_3_accuracy: 0.6461\n",
      "Epoch 12/50\n",
      "2813/2813 [==============================] - 136s 48ms/step - loss: 1.2376 - dense_2_loss: 1.2351 - dense_3_loss: 1.2401 - dense_2_accuracy: 0.5773 - dense_3_accuracy: 0.5743 - val_loss: 1.0413 - val_dense_2_loss: 1.0365 - val_dense_3_loss: 1.0462 - val_dense_2_accuracy: 0.6875 - val_dense_3_accuracy: 0.6828\n",
      "Epoch 13/50\n",
      "2813/2813 [==============================] - 136s 48ms/step - loss: 1.1542 - dense_2_loss: 1.1522 - dense_3_loss: 1.1562 - dense_2_accuracy: 0.6093 - dense_3_accuracy: 0.6062 - val_loss: 0.9613 - val_dense_2_loss: 0.9562 - val_dense_3_loss: 0.9664 - val_dense_2_accuracy: 0.7127 - val_dense_3_accuracy: 0.7097\n",
      "Epoch 14/50\n",
      "2813/2813 [==============================] - 138s 49ms/step - loss: 1.0882 - dense_2_loss: 1.0879 - dense_3_loss: 1.0885 - dense_2_accuracy: 0.6320 - dense_3_accuracy: 0.6333 - val_loss: 0.8962 - val_dense_2_loss: 0.8921 - val_dense_3_loss: 0.9003 - val_dense_2_accuracy: 0.7384 - val_dense_3_accuracy: 0.7290\n",
      "Epoch 15/50\n",
      "2813/2813 [==============================] - 137s 49ms/step - loss: 1.0293 - dense_2_loss: 1.0250 - dense_3_loss: 1.0336 - dense_2_accuracy: 0.6582 - dense_3_accuracy: 0.6519 - val_loss: 0.8392 - val_dense_2_loss: 0.8345 - val_dense_3_loss: 0.8439 - val_dense_2_accuracy: 0.7555 - val_dense_3_accuracy: 0.7503\n",
      "Epoch 16/50\n",
      "2813/2813 [==============================] - 136s 48ms/step - loss: 0.9803 - dense_2_loss: 0.9773 - dense_3_loss: 0.9832 - dense_2_accuracy: 0.6762 - dense_3_accuracy: 0.6732 - val_loss: 0.7938 - val_dense_2_loss: 0.7887 - val_dense_3_loss: 0.7989 - val_dense_2_accuracy: 0.7744 - val_dense_3_accuracy: 0.7672\n",
      "Epoch 17/50\n",
      "2813/2813 [==============================] - 138s 49ms/step - loss: 0.9381 - dense_2_loss: 0.9351 - dense_3_loss: 0.9412 - dense_2_accuracy: 0.6914 - dense_3_accuracy: 0.6874 - val_loss: 0.7511 - val_dense_2_loss: 0.7463 - val_dense_3_loss: 0.7559 - val_dense_2_accuracy: 0.7902 - val_dense_3_accuracy: 0.7778\n",
      "Epoch 18/50\n",
      "2813/2813 [==============================] - 138s 49ms/step - loss: 0.9013 - dense_2_loss: 0.8984 - dense_3_loss: 0.9042 - dense_2_accuracy: 0.7051 - dense_3_accuracy: 0.7032 - val_loss: 0.7163 - val_dense_2_loss: 0.7108 - val_dense_3_loss: 0.7219 - val_dense_2_accuracy: 0.8008 - val_dense_3_accuracy: 0.7908\n",
      "Epoch 19/50\n",
      "2813/2813 [==============================] - 136s 48ms/step - loss: 0.8683 - dense_2_loss: 0.8651 - dense_3_loss: 0.8716 - dense_2_accuracy: 0.7166 - dense_3_accuracy: 0.7154 - val_loss: 0.6839 - val_dense_2_loss: 0.6782 - val_dense_3_loss: 0.6895 - val_dense_2_accuracy: 0.8101 - val_dense_3_accuracy: 0.8035\n",
      "Epoch 20/50\n",
      "2813/2813 [==============================] - 137s 49ms/step - loss: 0.8396 - dense_2_loss: 0.8351 - dense_3_loss: 0.8440 - dense_2_accuracy: 0.7274 - dense_3_accuracy: 0.7250 - val_loss: 0.6532 - val_dense_2_loss: 0.6479 - val_dense_3_loss: 0.6585 - val_dense_2_accuracy: 0.8217 - val_dense_3_accuracy: 0.8153\n",
      "Epoch 21/50\n",
      "2813/2813 [==============================] - 137s 48ms/step - loss: 0.8106 - dense_2_loss: 0.8058 - dense_3_loss: 0.8154 - dense_2_accuracy: 0.7396 - dense_3_accuracy: 0.7361 - val_loss: 0.6299 - val_dense_2_loss: 0.6254 - val_dense_3_loss: 0.6343 - val_dense_2_accuracy: 0.8284 - val_dense_3_accuracy: 0.8210\n",
      "Epoch 22/50\n",
      "2813/2813 [==============================] - 137s 49ms/step - loss: 0.7866 - dense_2_loss: 0.7807 - dense_3_loss: 0.7924 - dense_2_accuracy: 0.7486 - dense_3_accuracy: 0.7429 - val_loss: 0.6049 - val_dense_2_loss: 0.5993 - val_dense_3_loss: 0.6104 - val_dense_2_accuracy: 0.8369 - val_dense_3_accuracy: 0.8281\n",
      "Epoch 23/50\n",
      "2813/2813 [==============================] - 138s 49ms/step - loss: 0.7623 - dense_2_loss: 0.7567 - dense_3_loss: 0.7679 - dense_2_accuracy: 0.7548 - dense_3_accuracy: 0.7523 - val_loss: 0.5825 - val_dense_2_loss: 0.5781 - val_dense_3_loss: 0.5870 - val_dense_2_accuracy: 0.8432 - val_dense_3_accuracy: 0.8326\n",
      "Epoch 24/50\n",
      "2813/2813 [==============================] - 135s 48ms/step - loss: 0.7444 - dense_2_loss: 0.7440 - dense_3_loss: 0.7449 - dense_2_accuracy: 0.7602 - dense_3_accuracy: 0.7613 - val_loss: 0.5626 - val_dense_2_loss: 0.5595 - val_dense_3_loss: 0.5656 - val_dense_2_accuracy: 0.8493 - val_dense_3_accuracy: 0.8410\n",
      "Epoch 25/50\n",
      "2813/2813 [==============================] - 135s 48ms/step - loss: 0.7253 - dense_2_loss: 0.7227 - dense_3_loss: 0.7279 - dense_2_accuracy: 0.7686 - dense_3_accuracy: 0.7651 - val_loss: 0.5443 - val_dense_2_loss: 0.5396 - val_dense_3_loss: 0.5489 - val_dense_2_accuracy: 0.8543 - val_dense_3_accuracy: 0.8452\n",
      "Epoch 26/50\n",
      "2813/2813 [==============================] - 136s 48ms/step - loss: 0.7047 - dense_2_loss: 0.7009 - dense_3_loss: 0.7085 - dense_2_accuracy: 0.7765 - dense_3_accuracy: 0.7726 - val_loss: 0.5272 - val_dense_2_loss: 0.5233 - val_dense_3_loss: 0.5311 - val_dense_2_accuracy: 0.8583 - val_dense_3_accuracy: 0.8510\n",
      "Epoch 27/50\n",
      "2813/2813 [==============================] - 138s 49ms/step - loss: 0.6902 - dense_2_loss: 0.6859 - dense_3_loss: 0.6945 - dense_2_accuracy: 0.7809 - dense_3_accuracy: 0.7773 - val_loss: 0.5130 - val_dense_2_loss: 0.5077 - val_dense_3_loss: 0.5183 - val_dense_2_accuracy: 0.8650 - val_dense_3_accuracy: 0.8554\n",
      "Epoch 28/50\n",
      "2813/2813 [==============================] - 134s 48ms/step - loss: 0.6720 - dense_2_loss: 0.6681 - dense_3_loss: 0.6759 - dense_2_accuracy: 0.7877 - dense_3_accuracy: 0.7847 - val_loss: 0.4950 - val_dense_2_loss: 0.4908 - val_dense_3_loss: 0.4991 - val_dense_2_accuracy: 0.8691 - val_dense_3_accuracy: 0.8602\n",
      "Epoch 29/50\n",
      "2813/2813 [==============================] - 136s 48ms/step - loss: 0.6614 - dense_2_loss: 0.6588 - dense_3_loss: 0.6639 - dense_2_accuracy: 0.7898 - dense_3_accuracy: 0.7896 - val_loss: 0.4798 - val_dense_2_loss: 0.4765 - val_dense_3_loss: 0.4830 - val_dense_2_accuracy: 0.8755 - val_dense_3_accuracy: 0.8673\n",
      "Epoch 30/50\n",
      "2813/2813 [==============================] - 136s 48ms/step - loss: 0.6427 - dense_2_loss: 0.6393 - dense_3_loss: 0.6461 - dense_2_accuracy: 0.7965 - dense_3_accuracy: 0.7943 - val_loss: 0.4688 - val_dense_2_loss: 0.4668 - val_dense_3_loss: 0.4709 - val_dense_2_accuracy: 0.8750 - val_dense_3_accuracy: 0.8715\n",
      "Epoch 31/50\n",
      "2813/2813 [==============================] - 137s 49ms/step - loss: 0.6303 - dense_2_loss: 0.6273 - dense_3_loss: 0.6333 - dense_2_accuracy: 0.8005 - dense_3_accuracy: 0.7974 - val_loss: 0.4533 - val_dense_2_loss: 0.4511 - val_dense_3_loss: 0.4556 - val_dense_2_accuracy: 0.8806 - val_dense_3_accuracy: 0.8769\n",
      "Epoch 32/50\n",
      "2813/2813 [==============================] - 137s 49ms/step - loss: 0.6162 - dense_2_loss: 0.6142 - dense_3_loss: 0.6183 - dense_2_accuracy: 0.8060 - dense_3_accuracy: 0.8047 - val_loss: 0.4400 - val_dense_2_loss: 0.4366 - val_dense_3_loss: 0.4434 - val_dense_2_accuracy: 0.8859 - val_dense_3_accuracy: 0.8804\n",
      "Epoch 33/50\n",
      "2813/2813 [==============================] - 135s 48ms/step - loss: 0.6049 - dense_2_loss: 0.6041 - dense_3_loss: 0.6056 - dense_2_accuracy: 0.8078 - dense_3_accuracy: 0.8082 - val_loss: 0.4299 - val_dense_2_loss: 0.4284 - val_dense_3_loss: 0.4314 - val_dense_2_accuracy: 0.8876 - val_dense_3_accuracy: 0.8857\n",
      "Epoch 34/50\n",
      "2813/2813 [==============================] - 137s 49ms/step - loss: 0.5927 - dense_2_loss: 0.5899 - dense_3_loss: 0.5956 - dense_2_accuracy: 0.8124 - dense_3_accuracy: 0.8116 - val_loss: 0.4198 - val_dense_2_loss: 0.4171 - val_dense_3_loss: 0.4225 - val_dense_2_accuracy: 0.8913 - val_dense_3_accuracy: 0.8841\n",
      "Epoch 35/50\n",
      "2813/2813 [==============================] - 136s 48ms/step - loss: 0.5799 - dense_2_loss: 0.5771 - dense_3_loss: 0.5827 - dense_2_accuracy: 0.8193 - dense_3_accuracy: 0.8161 - val_loss: 0.4069 - val_dense_2_loss: 0.4063 - val_dense_3_loss: 0.4075 - val_dense_2_accuracy: 0.8927 - val_dense_3_accuracy: 0.8919\n",
      "Epoch 36/50\n",
      "2813/2813 [==============================] - 137s 49ms/step - loss: 0.5743 - dense_2_loss: 0.5698 - dense_3_loss: 0.5788 - dense_2_accuracy: 0.8193 - dense_3_accuracy: 0.8166 - val_loss: 0.3989 - val_dense_2_loss: 0.3975 - val_dense_3_loss: 0.4003 - val_dense_2_accuracy: 0.8951 - val_dense_3_accuracy: 0.8935\n",
      "Epoch 37/50\n",
      "2813/2813 [==============================] - 136s 48ms/step - loss: 0.5600 - dense_2_loss: 0.5581 - dense_3_loss: 0.5619 - dense_2_accuracy: 0.8246 - dense_3_accuracy: 0.8225 - val_loss: 0.3885 - val_dense_2_loss: 0.3875 - val_dense_3_loss: 0.3896 - val_dense_2_accuracy: 0.8985 - val_dense_3_accuracy: 0.8970\n",
      "Epoch 38/50\n",
      "2813/2813 [==============================] - 135s 48ms/step - loss: 0.5524 - dense_2_loss: 0.5501 - dense_3_loss: 0.5547 - dense_2_accuracy: 0.8274 - dense_3_accuracy: 0.8245 - val_loss: 0.3827 - val_dense_2_loss: 0.3818 - val_dense_3_loss: 0.3835 - val_dense_2_accuracy: 0.9009 - val_dense_3_accuracy: 0.8996\n",
      "Epoch 39/50\n",
      "2813/2813 [==============================] - 152s 54ms/step - loss: 0.5447 - dense_2_loss: 0.5419 - dense_3_loss: 0.5476 - dense_2_accuracy: 0.8310 - dense_3_accuracy: 0.8278 - val_loss: 0.3741 - val_dense_2_loss: 0.3746 - val_dense_3_loss: 0.3735 - val_dense_2_accuracy: 0.9025 - val_dense_3_accuracy: 0.9006\n",
      "Epoch 40/50\n",
      "2813/2813 [==============================] - 191s 68ms/step - loss: 0.5322 - dense_2_loss: 0.5315 - dense_3_loss: 0.5328 - dense_2_accuracy: 0.8336 - dense_3_accuracy: 0.8329 - val_loss: 0.3638 - val_dense_2_loss: 0.3649 - val_dense_3_loss: 0.3628 - val_dense_2_accuracy: 0.9055 - val_dense_3_accuracy: 0.9033\n",
      "Epoch 41/50\n",
      "2813/2813 [==============================] - 167s 59ms/step - loss: 0.5266 - dense_2_loss: 0.5236 - dense_3_loss: 0.5296 - dense_2_accuracy: 0.8354 - dense_3_accuracy: 0.8346 - val_loss: 0.3586 - val_dense_2_loss: 0.3575 - val_dense_3_loss: 0.3597 - val_dense_2_accuracy: 0.9071 - val_dense_3_accuracy: 0.9029\n",
      "Epoch 42/50\n",
      "2813/2813 [==============================] - 174s 62ms/step - loss: 0.5192 - dense_2_loss: 0.5170 - dense_3_loss: 0.5214 - dense_2_accuracy: 0.8371 - dense_3_accuracy: 0.8360 - val_loss: 0.3518 - val_dense_2_loss: 0.3519 - val_dense_3_loss: 0.3518 - val_dense_2_accuracy: 0.9075 - val_dense_3_accuracy: 0.9068\n",
      "Epoch 43/50\n",
      "2813/2813 [==============================] - 172s 61ms/step - loss: 0.5090 - dense_2_loss: 0.5049 - dense_3_loss: 0.5132 - dense_2_accuracy: 0.8415 - dense_3_accuracy: 0.8392 - val_loss: 0.3436 - val_dense_2_loss: 0.3423 - val_dense_3_loss: 0.3450 - val_dense_2_accuracy: 0.9100 - val_dense_3_accuracy: 0.9096\n",
      "Epoch 44/50\n",
      "2813/2813 [==============================] - 164s 58ms/step - loss: 0.5051 - dense_2_loss: 0.5039 - dense_3_loss: 0.5062 - dense_2_accuracy: 0.8426 - dense_3_accuracy: 0.8405 - val_loss: 0.3397 - val_dense_2_loss: 0.3391 - val_dense_3_loss: 0.3403 - val_dense_2_accuracy: 0.9102 - val_dense_3_accuracy: 0.9120\n",
      "Epoch 45/50\n",
      "2813/2813 [==============================] - 183s 65ms/step - loss: 0.4964 - dense_2_loss: 0.4941 - dense_3_loss: 0.4986 - dense_2_accuracy: 0.8455 - dense_3_accuracy: 0.8441 - val_loss: 0.3327 - val_dense_2_loss: 0.3325 - val_dense_3_loss: 0.3329 - val_dense_2_accuracy: 0.9131 - val_dense_3_accuracy: 0.9131\n",
      "Epoch 46/50\n",
      "2813/2813 [==============================] - 182s 65ms/step - loss: 0.4900 - dense_2_loss: 0.4881 - dense_3_loss: 0.4918 - dense_2_accuracy: 0.8458 - dense_3_accuracy: 0.8457 - val_loss: 0.3271 - val_dense_2_loss: 0.3265 - val_dense_3_loss: 0.3278 - val_dense_2_accuracy: 0.9134 - val_dense_3_accuracy: 0.9141\n",
      "Epoch 47/50\n",
      "2813/2813 [==============================] - 219s 78ms/step - loss: 0.4823 - dense_2_loss: 0.4821 - dense_3_loss: 0.4825 - dense_2_accuracy: 0.8487 - dense_3_accuracy: 0.8477 - val_loss: 0.3202 - val_dense_2_loss: 0.3200 - val_dense_3_loss: 0.3204 - val_dense_2_accuracy: 0.9153 - val_dense_3_accuracy: 0.9160\n",
      "Epoch 48/50\n",
      "2813/2813 [==============================] - 219s 78ms/step - loss: 0.4761 - dense_2_loss: 0.4724 - dense_3_loss: 0.4797 - dense_2_accuracy: 0.8520 - dense_3_accuracy: 0.8489 - val_loss: 0.3171 - val_dense_2_loss: 0.3173 - val_dense_3_loss: 0.3169 - val_dense_2_accuracy: 0.9156 - val_dense_3_accuracy: 0.9185\n",
      "Epoch 49/50\n",
      "2813/2813 [==============================] - 170s 60ms/step - loss: 0.4725 - dense_2_loss: 0.4702 - dense_3_loss: 0.4749 - dense_2_accuracy: 0.8525 - dense_3_accuracy: 0.8500 - val_loss: 0.3110 - val_dense_2_loss: 0.3111 - val_dense_3_loss: 0.3109 - val_dense_2_accuracy: 0.9181 - val_dense_3_accuracy: 0.9199\n",
      "Epoch 50/50\n",
      "2813/2813 [==============================] - 156s 55ms/step - loss: 0.4650 - dense_2_loss: 0.4620 - dense_3_loss: 0.4679 - dense_2_accuracy: 0.8561 - dense_3_accuracy: 0.8534 - val_loss: 0.3083 - val_dense_2_loss: 0.3077 - val_dense_3_loss: 0.3088 - val_dense_2_accuracy: 0.9191 - val_dense_3_accuracy: 0.9187\n"
     ]
    },
    {
     "data": {
      "text/plain": [
       "<keras.callbacks.History at 0x7f6254131100>"
      ]
     },
     "execution_count": 13,
     "metadata": {},
     "output_type": "execute_result"
    }
   ],
   "source": [
    "classifier = Classifier()\n",
    "opt = tf.keras.optimizers.SGD(learning_rate=0.0001, momentum=0.9)\n",
    "classifier.model.compile(loss=[\"sparse_categorical_crossentropy\", \"sparse_categorical_crossentropy\"],\n",
    "    loss_weights=[0.5, 0.5],\n",
    "    optimizer=opt, \n",
    "    metrics=[\"accuracy\"])\n",
    "\n",
    "# callbacks\n",
    "checkpoint_cb = tf.keras.callbacks.ModelCheckpoint(\"./model_weights/model.h5\", save_best_only=True)\n",
    "early_stopping_cb = tf.keras.callbacks.EarlyStopping(patience=10, restore_best_weights=True)\n",
    "\n",
    "classifier.model.fit(mnist_train, validation_data=mnist_test, epochs=50)#, callbacks=[checkpoint_cb, early_stopping_cb])"
   ]
  },
  {
   "cell_type": "code",
   "execution_count": 22,
   "id": "485b5aeb",
   "metadata": {},
   "outputs": [
    {
     "name": "stderr",
     "output_type": "stream",
     "text": [
      "2022-01-03 21:44:33.405400: W tensorflow/python/util/util.cc:348] Sets are not currently considered sequences, but this may change in the future, so consider avoiding using them.\n"
     ]
    },
    {
     "name": "stdout",
     "output_type": "stream",
     "text": [
      "INFO:tensorflow:Assets written to: saved_model/assets\n"
     ]
    }
   ],
   "source": [
    "# tf.keras.models.save_model(classifier.model, \"saved_model\")"
   ]
  },
  {
   "cell_type": "code",
   "execution_count": 33,
   "id": "4a83c596",
   "metadata": {},
   "outputs": [
    {
     "data": {
      "text/plain": [
       "<keras.engine.functional.Functional at 0x7f4fa3b88d00>"
      ]
     },
     "execution_count": 33,
     "metadata": {},
     "output_type": "execute_result"
    }
   ],
   "source": [
    "model = tf.keras.models.load_model(\"saved_model\")\n",
    "opt = tf.keras.optimizers.SGD(learning_rate=0.00001, momentum=0.9)\n",
    "model.compile(loss=[\"sparse_categorical_crossentropy\", \"sparse_categorical_crossentropy\"],\n",
    "    loss_weights=[0.5, 0.5],\n",
    "    optimizer=opt, \n",
    "    metrics=[\"accuracy\"])\n",
    "model"
   ]
  },
  {
   "cell_type": "code",
   "execution_count": 34,
   "id": "f6c7512b",
   "metadata": {},
   "outputs": [
    {
     "name": "stdout",
     "output_type": "stream",
     "text": [
      "Epoch 1/50\n",
      "53/53 [==============================] - 3s 57ms/step - loss: 5.0723 - dense_2_loss: 4.9316 - dense_3_loss: 5.2130 - dense_2_accuracy: 0.1048 - dense_3_accuracy: 0.1095 - val_loss: 3.7135 - val_dense_2_loss: 3.6896 - val_dense_3_loss: 3.7373 - val_dense_2_accuracy: 0.0972 - val_dense_3_accuracy: 0.0741\n",
      "Epoch 2/50\n",
      "53/53 [==============================] - 3s 56ms/step - loss: 3.9447 - dense_2_loss: 3.9399 - dense_3_loss: 3.9496 - dense_2_accuracy: 0.0976 - dense_3_accuracy: 0.1083 - val_loss: 3.1938 - val_dense_2_loss: 3.2158 - val_dense_3_loss: 3.1718 - val_dense_2_accuracy: 0.0926 - val_dense_3_accuracy: 0.0926\n",
      "Epoch 3/50\n",
      "53/53 [==============================] - 3s 57ms/step - loss: 3.4876 - dense_2_loss: 3.5038 - dense_3_loss: 3.4715 - dense_2_accuracy: 0.0958 - dense_3_accuracy: 0.1101 - val_loss: 2.9741 - val_dense_2_loss: 2.9988 - val_dense_3_loss: 2.9494 - val_dense_2_accuracy: 0.1019 - val_dense_3_accuracy: 0.0972\n",
      "Epoch 4/50\n",
      "53/53 [==============================] - 3s 56ms/step - loss: 3.2705 - dense_2_loss: 3.3242 - dense_3_loss: 3.2167 - dense_2_accuracy: 0.1018 - dense_3_accuracy: 0.1054 - val_loss: 2.8483 - val_dense_2_loss: 2.8686 - val_dense_3_loss: 2.8280 - val_dense_2_accuracy: 0.0972 - val_dense_3_accuracy: 0.1111\n",
      "Epoch 5/50\n",
      "53/53 [==============================] - 3s 57ms/step - loss: 3.1408 - dense_2_loss: 3.1870 - dense_3_loss: 3.0946 - dense_2_accuracy: 0.1006 - dense_3_accuracy: 0.1042 - val_loss: 2.7700 - val_dense_2_loss: 2.7843 - val_dense_3_loss: 2.7558 - val_dense_2_accuracy: 0.1019 - val_dense_3_accuracy: 0.1111\n",
      "Epoch 6/50\n",
      "53/53 [==============================] - 3s 57ms/step - loss: 3.0674 - dense_2_loss: 3.1057 - dense_3_loss: 3.0292 - dense_2_accuracy: 0.0982 - dense_3_accuracy: 0.1077 - val_loss: 2.7131 - val_dense_2_loss: 2.7222 - val_dense_3_loss: 2.7039 - val_dense_2_accuracy: 0.0972 - val_dense_3_accuracy: 0.1111\n",
      "Epoch 7/50\n",
      "53/53 [==============================] - 3s 57ms/step - loss: 2.9702 - dense_2_loss: 2.9921 - dense_3_loss: 2.9483 - dense_2_accuracy: 0.0982 - dense_3_accuracy: 0.1024 - val_loss: 2.6685 - val_dense_2_loss: 2.6743 - val_dense_3_loss: 2.6628 - val_dense_2_accuracy: 0.0972 - val_dense_3_accuracy: 0.1157\n",
      "Epoch 8/50\n",
      "53/53 [==============================] - 3s 58ms/step - loss: 2.9001 - dense_2_loss: 2.9348 - dense_3_loss: 2.8654 - dense_2_accuracy: 0.1155 - dense_3_accuracy: 0.1065 - val_loss: 2.6335 - val_dense_2_loss: 2.6370 - val_dense_3_loss: 2.6301 - val_dense_2_accuracy: 0.1019 - val_dense_3_accuracy: 0.1250\n",
      "Epoch 9/50\n",
      "53/53 [==============================] - 3s 58ms/step - loss: 2.8676 - dense_2_loss: 2.8879 - dense_3_loss: 2.8472 - dense_2_accuracy: 0.0952 - dense_3_accuracy: 0.1048 - val_loss: 2.6035 - val_dense_2_loss: 2.6047 - val_dense_3_loss: 2.6024 - val_dense_2_accuracy: 0.1065 - val_dense_3_accuracy: 0.1250\n",
      "Epoch 10/50\n",
      "53/53 [==============================] - 3s 58ms/step - loss: 2.8346 - dense_2_loss: 2.8785 - dense_3_loss: 2.7907 - dense_2_accuracy: 0.1024 - dense_3_accuracy: 0.1113 - val_loss: 2.5787 - val_dense_2_loss: 2.5784 - val_dense_3_loss: 2.5791 - val_dense_2_accuracy: 0.1019 - val_dense_3_accuracy: 0.1296\n",
      "Epoch 11/50\n",
      "53/53 [==============================] - 3s 58ms/step - loss: 2.8027 - dense_2_loss: 2.8248 - dense_3_loss: 2.7805 - dense_2_accuracy: 0.1060 - dense_3_accuracy: 0.1095 - val_loss: 2.5572 - val_dense_2_loss: 2.5556 - val_dense_3_loss: 2.5589 - val_dense_2_accuracy: 0.1019 - val_dense_3_accuracy: 0.1204\n",
      "Epoch 12/50\n",
      "53/53 [==============================] - 3s 61ms/step - loss: 2.7455 - dense_2_loss: 2.7677 - dense_3_loss: 2.7234 - dense_2_accuracy: 0.1060 - dense_3_accuracy: 0.1077 - val_loss: 2.5389 - val_dense_2_loss: 2.5359 - val_dense_3_loss: 2.5419 - val_dense_2_accuracy: 0.0972 - val_dense_3_accuracy: 0.1250\n",
      "Epoch 13/50\n",
      "53/53 [==============================] - 3s 58ms/step - loss: 2.7394 - dense_2_loss: 2.7567 - dense_3_loss: 2.7221 - dense_2_accuracy: 0.1042 - dense_3_accuracy: 0.1119 - val_loss: 2.5226 - val_dense_2_loss: 2.5187 - val_dense_3_loss: 2.5265 - val_dense_2_accuracy: 0.0972 - val_dense_3_accuracy: 0.1250\n",
      "Epoch 14/50\n",
      "53/53 [==============================] - 3s 57ms/step - loss: 2.7009 - dense_2_loss: 2.7116 - dense_3_loss: 2.6901 - dense_2_accuracy: 0.1018 - dense_3_accuracy: 0.1125 - val_loss: 2.5082 - val_dense_2_loss: 2.5035 - val_dense_3_loss: 2.5129 - val_dense_2_accuracy: 0.0972 - val_dense_3_accuracy: 0.1250\n",
      "Epoch 15/50\n",
      "53/53 [==============================] - 3s 59ms/step - loss: 2.6909 - dense_2_loss: 2.7007 - dense_3_loss: 2.6811 - dense_2_accuracy: 0.1060 - dense_3_accuracy: 0.1149 - val_loss: 2.4955 - val_dense_2_loss: 2.4903 - val_dense_3_loss: 2.5007 - val_dense_2_accuracy: 0.0926 - val_dense_3_accuracy: 0.1204\n",
      "Epoch 16/50\n",
      "53/53 [==============================] - 3s 58ms/step - loss: 2.6725 - dense_2_loss: 2.6899 - dense_3_loss: 2.6551 - dense_2_accuracy: 0.1113 - dense_3_accuracy: 0.1101 - val_loss: 2.4840 - val_dense_2_loss: 2.4780 - val_dense_3_loss: 2.4901 - val_dense_2_accuracy: 0.0926 - val_dense_3_accuracy: 0.1204\n",
      "Epoch 17/50\n",
      "53/53 [==============================] - 3s 59ms/step - loss: 2.6610 - dense_2_loss: 2.6782 - dense_3_loss: 2.6437 - dense_2_accuracy: 0.1030 - dense_3_accuracy: 0.1083 - val_loss: 2.4732 - val_dense_2_loss: 2.4663 - val_dense_3_loss: 2.4802 - val_dense_2_accuracy: 0.1019 - val_dense_3_accuracy: 0.1250\n",
      "Epoch 18/50\n",
      "53/53 [==============================] - 3s 60ms/step - loss: 2.6352 - dense_2_loss: 2.6569 - dense_3_loss: 2.6134 - dense_2_accuracy: 0.1107 - dense_3_accuracy: 0.1083 - val_loss: 2.4640 - val_dense_2_loss: 2.4564 - val_dense_3_loss: 2.4717 - val_dense_2_accuracy: 0.1019 - val_dense_3_accuracy: 0.1204\n",
      "Epoch 19/50\n",
      "53/53 [==============================] - 3s 59ms/step - loss: 2.6122 - dense_2_loss: 2.6283 - dense_3_loss: 2.5962 - dense_2_accuracy: 0.1089 - dense_3_accuracy: 0.1095 - val_loss: 2.4556 - val_dense_2_loss: 2.4476 - val_dense_3_loss: 2.4636 - val_dense_2_accuracy: 0.0972 - val_dense_3_accuracy: 0.1157\n",
      "Epoch 20/50\n",
      "53/53 [==============================] - 3s 59ms/step - loss: 2.5969 - dense_2_loss: 2.6043 - dense_3_loss: 2.5894 - dense_2_accuracy: 0.1095 - dense_3_accuracy: 0.1089 - val_loss: 2.4479 - val_dense_2_loss: 2.4397 - val_dense_3_loss: 2.4560 - val_dense_2_accuracy: 0.0972 - val_dense_3_accuracy: 0.1157\n",
      "Epoch 21/50\n",
      "53/53 [==============================] - 3s 62ms/step - loss: 2.5937 - dense_2_loss: 2.6133 - dense_3_loss: 2.5741 - dense_2_accuracy: 0.1155 - dense_3_accuracy: 0.1060 - val_loss: 2.4406 - val_dense_2_loss: 2.4324 - val_dense_3_loss: 2.4488 - val_dense_2_accuracy: 0.1019 - val_dense_3_accuracy: 0.1157\n",
      "Epoch 22/50\n",
      "53/53 [==============================] - 3s 61ms/step - loss: 2.5830 - dense_2_loss: 2.5964 - dense_3_loss: 2.5695 - dense_2_accuracy: 0.0994 - dense_3_accuracy: 0.1179 - val_loss: 2.4342 - val_dense_2_loss: 2.4261 - val_dense_3_loss: 2.4422 - val_dense_2_accuracy: 0.1019 - val_dense_3_accuracy: 0.1204\n",
      "Epoch 23/50\n",
      "53/53 [==============================] - 3s 61ms/step - loss: 2.5689 - dense_2_loss: 2.5813 - dense_3_loss: 2.5565 - dense_2_accuracy: 0.1071 - dense_3_accuracy: 0.1006 - val_loss: 2.4282 - val_dense_2_loss: 2.4200 - val_dense_3_loss: 2.4364 - val_dense_2_accuracy: 0.1019 - val_dense_3_accuracy: 0.1204\n",
      "Epoch 24/50\n",
      "53/53 [==============================] - 3s 60ms/step - loss: 2.5576 - dense_2_loss: 2.5672 - dense_3_loss: 2.5479 - dense_2_accuracy: 0.1083 - dense_3_accuracy: 0.1095 - val_loss: 2.4225 - val_dense_2_loss: 2.4143 - val_dense_3_loss: 2.4307 - val_dense_2_accuracy: 0.1065 - val_dense_3_accuracy: 0.1204\n",
      "Epoch 25/50\n",
      "53/53 [==============================] - 3s 60ms/step - loss: 2.5340 - dense_2_loss: 2.5418 - dense_3_loss: 2.5262 - dense_2_accuracy: 0.1012 - dense_3_accuracy: 0.1149 - val_loss: 2.4176 - val_dense_2_loss: 2.4093 - val_dense_3_loss: 2.4258 - val_dense_2_accuracy: 0.1065 - val_dense_3_accuracy: 0.1204\n",
      "Epoch 26/50\n",
      "53/53 [==============================] - 3s 60ms/step - loss: 2.5300 - dense_2_loss: 2.5223 - dense_3_loss: 2.5377 - dense_2_accuracy: 0.1137 - dense_3_accuracy: 0.1179 - val_loss: 2.4129 - val_dense_2_loss: 2.4046 - val_dense_3_loss: 2.4212 - val_dense_2_accuracy: 0.1065 - val_dense_3_accuracy: 0.1157\n"
     ]
    },
    {
     "name": "stdout",
     "output_type": "stream",
     "text": [
      "Epoch 27/50\n",
      "53/53 [==============================] - 3s 58ms/step - loss: 2.5169 - dense_2_loss: 2.5319 - dense_3_loss: 2.5019 - dense_2_accuracy: 0.1113 - dense_3_accuracy: 0.1173 - val_loss: 2.4083 - val_dense_2_loss: 2.4000 - val_dense_3_loss: 2.4166 - val_dense_2_accuracy: 0.1065 - val_dense_3_accuracy: 0.1157\n",
      "Epoch 28/50\n",
      "53/53 [==============================] - 3s 58ms/step - loss: 2.5179 - dense_2_loss: 2.5213 - dense_3_loss: 2.5146 - dense_2_accuracy: 0.1048 - dense_3_accuracy: 0.1220 - val_loss: 2.4041 - val_dense_2_loss: 2.3957 - val_dense_3_loss: 2.4125 - val_dense_2_accuracy: 0.1065 - val_dense_3_accuracy: 0.1157\n",
      "Epoch 29/50\n",
      "53/53 [==============================] - 3s 59ms/step - loss: 2.5117 - dense_2_loss: 2.5168 - dense_3_loss: 2.5066 - dense_2_accuracy: 0.0929 - dense_3_accuracy: 0.1048 - val_loss: 2.4003 - val_dense_2_loss: 2.3920 - val_dense_3_loss: 2.4087 - val_dense_2_accuracy: 0.1065 - val_dense_3_accuracy: 0.1157\n",
      "Epoch 30/50\n",
      "53/53 [==============================] - 3s 58ms/step - loss: 2.5154 - dense_2_loss: 2.5254 - dense_3_loss: 2.5055 - dense_2_accuracy: 0.1006 - dense_3_accuracy: 0.1131 - val_loss: 2.3967 - val_dense_2_loss: 2.3883 - val_dense_3_loss: 2.4051 - val_dense_2_accuracy: 0.1065 - val_dense_3_accuracy: 0.1157\n",
      "Epoch 31/50\n",
      "53/53 [==============================] - 3s 62ms/step - loss: 2.4971 - dense_2_loss: 2.5117 - dense_3_loss: 2.4826 - dense_2_accuracy: 0.1083 - dense_3_accuracy: 0.1131 - val_loss: 2.3935 - val_dense_2_loss: 2.3849 - val_dense_3_loss: 2.4021 - val_dense_2_accuracy: 0.1065 - val_dense_3_accuracy: 0.1157\n",
      "Epoch 32/50\n",
      "53/53 [==============================] - 3s 60ms/step - loss: 2.4940 - dense_2_loss: 2.4895 - dense_3_loss: 2.4985 - dense_2_accuracy: 0.1119 - dense_3_accuracy: 0.1048 - val_loss: 2.3904 - val_dense_2_loss: 2.3817 - val_dense_3_loss: 2.3992 - val_dense_2_accuracy: 0.1065 - val_dense_3_accuracy: 0.1111\n",
      "Epoch 33/50\n",
      "53/53 [==============================] - 3s 60ms/step - loss: 2.4905 - dense_2_loss: 2.5005 - dense_3_loss: 2.4805 - dense_2_accuracy: 0.1173 - dense_3_accuracy: 0.1083 - val_loss: 2.3876 - val_dense_2_loss: 2.3788 - val_dense_3_loss: 2.3964 - val_dense_2_accuracy: 0.1065 - val_dense_3_accuracy: 0.1111\n",
      "Epoch 34/50\n",
      "53/53 [==============================] - 3s 61ms/step - loss: 2.4960 - dense_2_loss: 2.5131 - dense_3_loss: 2.4789 - dense_2_accuracy: 0.1006 - dense_3_accuracy: 0.1155 - val_loss: 2.3846 - val_dense_2_loss: 2.3758 - val_dense_3_loss: 2.3934 - val_dense_2_accuracy: 0.1019 - val_dense_3_accuracy: 0.1157\n",
      "Epoch 35/50\n",
      "53/53 [==============================] - 3s 60ms/step - loss: 2.4911 - dense_2_loss: 2.4984 - dense_3_loss: 2.4837 - dense_2_accuracy: 0.1036 - dense_3_accuracy: 0.1095 - val_loss: 2.3819 - val_dense_2_loss: 2.3731 - val_dense_3_loss: 2.3907 - val_dense_2_accuracy: 0.1019 - val_dense_3_accuracy: 0.1204\n",
      "Epoch 36/50\n",
      "53/53 [==============================] - 3s 60ms/step - loss: 2.4718 - dense_2_loss: 2.4688 - dense_3_loss: 2.4749 - dense_2_accuracy: 0.1113 - dense_3_accuracy: 0.1048 - val_loss: 2.3793 - val_dense_2_loss: 2.3704 - val_dense_3_loss: 2.3882 - val_dense_2_accuracy: 0.1019 - val_dense_3_accuracy: 0.1157\n",
      "Epoch 37/50\n",
      "53/53 [==============================] - 3s 60ms/step - loss: 2.4646 - dense_2_loss: 2.4634 - dense_3_loss: 2.4659 - dense_2_accuracy: 0.1202 - dense_3_accuracy: 0.1060 - val_loss: 2.3769 - val_dense_2_loss: 2.3679 - val_dense_3_loss: 2.3859 - val_dense_2_accuracy: 0.1019 - val_dense_3_accuracy: 0.1157\n",
      "Epoch 38/50\n",
      "53/53 [==============================] - 3s 60ms/step - loss: 2.4627 - dense_2_loss: 2.4778 - dense_3_loss: 2.4476 - dense_2_accuracy: 0.0976 - dense_3_accuracy: 0.1131 - val_loss: 2.3745 - val_dense_2_loss: 2.3655 - val_dense_3_loss: 2.3835 - val_dense_2_accuracy: 0.1019 - val_dense_3_accuracy: 0.1157\n",
      "Epoch 39/50\n",
      "53/53 [==============================] - 3s 61ms/step - loss: 2.4529 - dense_2_loss: 2.4631 - dense_3_loss: 2.4426 - dense_2_accuracy: 0.1083 - dense_3_accuracy: 0.1190 - val_loss: 2.3723 - val_dense_2_loss: 2.3633 - val_dense_3_loss: 2.3813 - val_dense_2_accuracy: 0.1019 - val_dense_3_accuracy: 0.1157\n",
      "Epoch 40/50\n",
      "53/53 [==============================] - 3s 59ms/step - loss: 2.4598 - dense_2_loss: 2.4646 - dense_3_loss: 2.4551 - dense_2_accuracy: 0.1179 - dense_3_accuracy: 0.1054 - val_loss: 2.3701 - val_dense_2_loss: 2.3612 - val_dense_3_loss: 2.3791 - val_dense_2_accuracy: 0.1019 - val_dense_3_accuracy: 0.1111\n",
      "Epoch 41/50\n",
      "53/53 [==============================] - 3s 60ms/step - loss: 2.4474 - dense_2_loss: 2.4550 - dense_3_loss: 2.4399 - dense_2_accuracy: 0.1167 - dense_3_accuracy: 0.1048 - val_loss: 2.3681 - val_dense_2_loss: 2.3592 - val_dense_3_loss: 2.3769 - val_dense_2_accuracy: 0.1019 - val_dense_3_accuracy: 0.1111\n",
      "Epoch 42/50\n",
      "53/53 [==============================] - 3s 61ms/step - loss: 2.4552 - dense_2_loss: 2.4704 - dense_3_loss: 2.4400 - dense_2_accuracy: 0.1083 - dense_3_accuracy: 0.1173 - val_loss: 2.3662 - val_dense_2_loss: 2.3574 - val_dense_3_loss: 2.3749 - val_dense_2_accuracy: 0.1065 - val_dense_3_accuracy: 0.1157\n",
      "Epoch 43/50\n",
      "53/53 [==============================] - 3s 61ms/step - loss: 2.4515 - dense_2_loss: 2.4551 - dense_3_loss: 2.4480 - dense_2_accuracy: 0.1000 - dense_3_accuracy: 0.1071 - val_loss: 2.3643 - val_dense_2_loss: 2.3556 - val_dense_3_loss: 2.3729 - val_dense_2_accuracy: 0.1111 - val_dense_3_accuracy: 0.1111\n",
      "Epoch 44/50\n",
      "53/53 [==============================] - 3s 60ms/step - loss: 2.4465 - dense_2_loss: 2.4430 - dense_3_loss: 2.4500 - dense_2_accuracy: 0.1042 - dense_3_accuracy: 0.1089 - val_loss: 2.3624 - val_dense_2_loss: 2.3539 - val_dense_3_loss: 2.3710 - val_dense_2_accuracy: 0.1157 - val_dense_3_accuracy: 0.1065\n",
      "Epoch 45/50\n",
      "53/53 [==============================] - 3s 61ms/step - loss: 2.4447 - dense_2_loss: 2.4468 - dense_3_loss: 2.4426 - dense_2_accuracy: 0.1143 - dense_3_accuracy: 0.1107 - val_loss: 2.3607 - val_dense_2_loss: 2.3523 - val_dense_3_loss: 2.3692 - val_dense_2_accuracy: 0.1250 - val_dense_3_accuracy: 0.1065\n",
      "Epoch 46/50\n",
      "53/53 [==============================] - 3s 60ms/step - loss: 2.4315 - dense_2_loss: 2.4275 - dense_3_loss: 2.4356 - dense_2_accuracy: 0.1065 - dense_3_accuracy: 0.1060 - val_loss: 2.3591 - val_dense_2_loss: 2.3507 - val_dense_3_loss: 2.3675 - val_dense_2_accuracy: 0.1250 - val_dense_3_accuracy: 0.1111\n",
      "Epoch 47/50\n",
      "53/53 [==============================] - 3s 61ms/step - loss: 2.4390 - dense_2_loss: 2.4489 - dense_3_loss: 2.4292 - dense_2_accuracy: 0.1060 - dense_3_accuracy: 0.1143 - val_loss: 2.3575 - val_dense_2_loss: 2.3492 - val_dense_3_loss: 2.3657 - val_dense_2_accuracy: 0.1250 - val_dense_3_accuracy: 0.1111\n",
      "Epoch 48/50\n",
      "53/53 [==============================] - 3s 60ms/step - loss: 2.4318 - dense_2_loss: 2.4370 - dense_3_loss: 2.4267 - dense_2_accuracy: 0.1071 - dense_3_accuracy: 0.1071 - val_loss: 2.3559 - val_dense_2_loss: 2.3476 - val_dense_3_loss: 2.3642 - val_dense_2_accuracy: 0.1250 - val_dense_3_accuracy: 0.1111\n",
      "Epoch 49/50\n",
      "53/53 [==============================] - 3s 61ms/step - loss: 2.4197 - dense_2_loss: 2.4254 - dense_3_loss: 2.4140 - dense_2_accuracy: 0.1119 - dense_3_accuracy: 0.1131 - val_loss: 2.3545 - val_dense_2_loss: 2.3464 - val_dense_3_loss: 2.3627 - val_dense_2_accuracy: 0.1250 - val_dense_3_accuracy: 0.1111\n",
      "Epoch 50/50\n",
      "53/53 [==============================] - 3s 61ms/step - loss: 2.4235 - dense_2_loss: 2.4330 - dense_3_loss: 2.4141 - dense_2_accuracy: 0.1119 - dense_3_accuracy: 0.1030 - val_loss: 2.3532 - val_dense_2_loss: 2.3451 - val_dense_3_loss: 2.3613 - val_dense_2_accuracy: 0.1296 - val_dense_3_accuracy: 0.1111\n"
     ]
    },
    {
     "data": {
      "text/plain": [
       "<keras.callbacks.History at 0x7f4ff714a8b0>"
      ]
     },
     "execution_count": 34,
     "metadata": {},
     "output_type": "execute_result"
    }
   ],
   "source": [
    "model.fit(train_ds, validation_data=val_ds, epochs=50)"
   ]
  },
  {
   "cell_type": "markdown",
   "id": "79f5fb1d",
   "metadata": {},
   "source": [
    "# try transfer learning from xception pretrained on imagenet\n",
    "\n",
    "classify first and second digit separately"
   ]
  },
  {
   "cell_type": "code",
   "execution_count": 89,
   "id": "ec3fe3b1",
   "metadata": {},
   "outputs": [],
   "source": [
    "# split the number into 2 digits\n",
    "subset[\"first_digit\"] = subset[\"label\"].apply(lambda x: int(f'{x:02d}'[0]))\n",
    "subset[\"second_digit\"] = subset[\"label\"].apply(lambda x: int(f'{x:02d}'[1]))\n",
    "\n",
    "\n",
    "train, test = train_test_split(subset, test_size=0.3, random_state=seed, shuffle=True)\n",
    "test, val = train_test_split(test, test_size=0.3, random_state=seed, shuffle=True)"
   ]
  },
  {
   "cell_type": "code",
   "execution_count": 101,
   "id": "f05daae1",
   "metadata": {},
   "outputs": [],
   "source": [
    "DG = DataGenerator()\n",
    "\n",
    "train_ds = DG.get_dataset(\n",
    "    filenames=train[\"filepath\"].to_numpy(), \n",
    "    labels=(train[\"first_digit\"].to_numpy(), train[\"second_digit\"].to_numpy()),\n",
    "    batch_size=5, \n",
    "    n_prefetch=1,\n",
    "    training=True\n",
    ")\n",
    "\n",
    "val_ds = DG.get_dataset(\n",
    "    filenames=val[\"filepath\"].to_numpy(), \n",
    "    labels=(val[\"first_digit\"].to_numpy(), val[\"second_digit\"].to_numpy()))\n",
    "\n",
    "test_ds = DG.get_dataset(\n",
    "    filenames=test[\"filepath\"].to_numpy(), \n",
    "    labels=(test[\"first_digit\"].to_numpy(), test[\"second_digit\"].to_numpy()))"
   ]
  },
  {
   "cell_type": "code",
   "execution_count": 66,
   "id": "76e57b32",
   "metadata": {},
   "outputs": [
    {
     "name": "stdout",
     "output_type": "stream",
     "text": [
      "Downloading data from https://storage.googleapis.com/tensorflow/keras-applications/xception/xception_weights_tf_dim_ordering_tf_kernels_notop.h5\n",
      "83689472/83683744 [==============================] - 10s 0us/step\n",
      "83697664/83683744 [==============================] - 10s 0us/step\n"
     ]
    }
   ],
   "source": [
    "base_model = tf.keras.applications.xception.Xception(weights=\"imagenet\", include_top=False)\n",
    "# base_modle = tf.keras.applications.EfficientNetB0(weights=\"imagenet\", include_top=False)\n",
    "\n",
    "avg = tf.keras.layers.GlobalAveragePooling2D()(base_model.output)\n",
    "first_digit_output = tf.keras.layers.Dense(10, activation=\"softmax\")(avg)\n",
    "second_digit_output = tf.keras.layers.Dense(10, activation=\"softmax\")(avg)\n",
    "model = tf.keras.Model(inputs=base_model.input, outputs=[first_digit_output, second_digit_output])\n",
    "\n",
    "# freeze the weights\n",
    "for layer in base_model.layers:\n",
    "    layer.trainable = False"
   ]
  },
  {
   "cell_type": "code",
   "execution_count": 67,
   "id": "66d3e611",
   "metadata": {},
   "outputs": [
    {
     "name": "stdout",
     "output_type": "stream",
     "text": [
      "Model: \"xception\"\n",
      "__________________________________________________________________________________________________\n",
      "Layer (type)                    Output Shape         Param #     Connected to                     \n",
      "==================================================================================================\n",
      "input_1 (InputLayer)            [(None, None, None,  0                                            \n",
      "__________________________________________________________________________________________________\n",
      "block1_conv1 (Conv2D)           (None, None, None, 3 864         input_1[0][0]                    \n",
      "__________________________________________________________________________________________________\n",
      "block1_conv1_bn (BatchNormaliza (None, None, None, 3 128         block1_conv1[0][0]               \n",
      "__________________________________________________________________________________________________\n",
      "block1_conv1_act (Activation)   (None, None, None, 3 0           block1_conv1_bn[0][0]            \n",
      "__________________________________________________________________________________________________\n",
      "block1_conv2 (Conv2D)           (None, None, None, 6 18432       block1_conv1_act[0][0]           \n",
      "__________________________________________________________________________________________________\n",
      "block1_conv2_bn (BatchNormaliza (None, None, None, 6 256         block1_conv2[0][0]               \n",
      "__________________________________________________________________________________________________\n",
      "block1_conv2_act (Activation)   (None, None, None, 6 0           block1_conv2_bn[0][0]            \n",
      "__________________________________________________________________________________________________\n",
      "block2_sepconv1 (SeparableConv2 (None, None, None, 1 8768        block1_conv2_act[0][0]           \n",
      "__________________________________________________________________________________________________\n",
      "block2_sepconv1_bn (BatchNormal (None, None, None, 1 512         block2_sepconv1[0][0]            \n",
      "__________________________________________________________________________________________________\n",
      "block2_sepconv2_act (Activation (None, None, None, 1 0           block2_sepconv1_bn[0][0]         \n",
      "__________________________________________________________________________________________________\n",
      "block2_sepconv2 (SeparableConv2 (None, None, None, 1 17536       block2_sepconv2_act[0][0]        \n",
      "__________________________________________________________________________________________________\n",
      "block2_sepconv2_bn (BatchNormal (None, None, None, 1 512         block2_sepconv2[0][0]            \n",
      "__________________________________________________________________________________________________\n",
      "conv2d (Conv2D)                 (None, None, None, 1 8192        block1_conv2_act[0][0]           \n",
      "__________________________________________________________________________________________________\n",
      "block2_pool (MaxPooling2D)      (None, None, None, 1 0           block2_sepconv2_bn[0][0]         \n",
      "__________________________________________________________________________________________________\n",
      "batch_normalization (BatchNorma (None, None, None, 1 512         conv2d[0][0]                     \n",
      "__________________________________________________________________________________________________\n",
      "add (Add)                       (None, None, None, 1 0           block2_pool[0][0]                \n",
      "                                                                 batch_normalization[0][0]        \n",
      "__________________________________________________________________________________________________\n",
      "block3_sepconv1_act (Activation (None, None, None, 1 0           add[0][0]                        \n",
      "__________________________________________________________________________________________________\n",
      "block3_sepconv1 (SeparableConv2 (None, None, None, 2 33920       block3_sepconv1_act[0][0]        \n",
      "__________________________________________________________________________________________________\n",
      "block3_sepconv1_bn (BatchNormal (None, None, None, 2 1024        block3_sepconv1[0][0]            \n",
      "__________________________________________________________________________________________________\n",
      "block3_sepconv2_act (Activation (None, None, None, 2 0           block3_sepconv1_bn[0][0]         \n",
      "__________________________________________________________________________________________________\n",
      "block3_sepconv2 (SeparableConv2 (None, None, None, 2 67840       block3_sepconv2_act[0][0]        \n",
      "__________________________________________________________________________________________________\n",
      "block3_sepconv2_bn (BatchNormal (None, None, None, 2 1024        block3_sepconv2[0][0]            \n",
      "__________________________________________________________________________________________________\n",
      "conv2d_1 (Conv2D)               (None, None, None, 2 32768       add[0][0]                        \n",
      "__________________________________________________________________________________________________\n",
      "block3_pool (MaxPooling2D)      (None, None, None, 2 0           block3_sepconv2_bn[0][0]         \n",
      "__________________________________________________________________________________________________\n",
      "batch_normalization_1 (BatchNor (None, None, None, 2 1024        conv2d_1[0][0]                   \n",
      "__________________________________________________________________________________________________\n",
      "add_1 (Add)                     (None, None, None, 2 0           block3_pool[0][0]                \n",
      "                                                                 batch_normalization_1[0][0]      \n",
      "__________________________________________________________________________________________________\n",
      "block4_sepconv1_act (Activation (None, None, None, 2 0           add_1[0][0]                      \n",
      "__________________________________________________________________________________________________\n",
      "block4_sepconv1 (SeparableConv2 (None, None, None, 7 188672      block4_sepconv1_act[0][0]        \n",
      "__________________________________________________________________________________________________\n",
      "block4_sepconv1_bn (BatchNormal (None, None, None, 7 2912        block4_sepconv1[0][0]            \n",
      "__________________________________________________________________________________________________\n",
      "block4_sepconv2_act (Activation (None, None, None, 7 0           block4_sepconv1_bn[0][0]         \n",
      "__________________________________________________________________________________________________\n",
      "block4_sepconv2 (SeparableConv2 (None, None, None, 7 536536      block4_sepconv2_act[0][0]        \n",
      "__________________________________________________________________________________________________\n",
      "block4_sepconv2_bn (BatchNormal (None, None, None, 7 2912        block4_sepconv2[0][0]            \n",
      "__________________________________________________________________________________________________\n",
      "conv2d_2 (Conv2D)               (None, None, None, 7 186368      add_1[0][0]                      \n",
      "__________________________________________________________________________________________________\n",
      "block4_pool (MaxPooling2D)      (None, None, None, 7 0           block4_sepconv2_bn[0][0]         \n",
      "__________________________________________________________________________________________________\n",
      "batch_normalization_2 (BatchNor (None, None, None, 7 2912        conv2d_2[0][0]                   \n",
      "__________________________________________________________________________________________________\n",
      "add_2 (Add)                     (None, None, None, 7 0           block4_pool[0][0]                \n",
      "                                                                 batch_normalization_2[0][0]      \n",
      "__________________________________________________________________________________________________\n",
      "block5_sepconv1_act (Activation (None, None, None, 7 0           add_2[0][0]                      \n",
      "__________________________________________________________________________________________________\n",
      "block5_sepconv1 (SeparableConv2 (None, None, None, 7 536536      block5_sepconv1_act[0][0]        \n",
      "__________________________________________________________________________________________________\n",
      "block5_sepconv1_bn (BatchNormal (None, None, None, 7 2912        block5_sepconv1[0][0]            \n",
      "__________________________________________________________________________________________________\n",
      "block5_sepconv2_act (Activation (None, None, None, 7 0           block5_sepconv1_bn[0][0]         \n",
      "__________________________________________________________________________________________________\n",
      "block5_sepconv2 (SeparableConv2 (None, None, None, 7 536536      block5_sepconv2_act[0][0]        \n",
      "__________________________________________________________________________________________________\n",
      "block5_sepconv2_bn (BatchNormal (None, None, None, 7 2912        block5_sepconv2[0][0]            \n",
      "__________________________________________________________________________________________________\n",
      "block5_sepconv3_act (Activation (None, None, None, 7 0           block5_sepconv2_bn[0][0]         \n",
      "__________________________________________________________________________________________________\n",
      "block5_sepconv3 (SeparableConv2 (None, None, None, 7 536536      block5_sepconv3_act[0][0]        \n",
      "__________________________________________________________________________________________________\n",
      "block5_sepconv3_bn (BatchNormal (None, None, None, 7 2912        block5_sepconv3[0][0]            \n",
      "__________________________________________________________________________________________________\n",
      "add_3 (Add)                     (None, None, None, 7 0           block5_sepconv3_bn[0][0]         \n",
      "                                                                 add_2[0][0]                      \n",
      "__________________________________________________________________________________________________\n",
      "block6_sepconv1_act (Activation (None, None, None, 7 0           add_3[0][0]                      \n",
      "__________________________________________________________________________________________________\n",
      "block6_sepconv1 (SeparableConv2 (None, None, None, 7 536536      block6_sepconv1_act[0][0]        \n",
      "__________________________________________________________________________________________________\n",
      "block6_sepconv1_bn (BatchNormal (None, None, None, 7 2912        block6_sepconv1[0][0]            \n",
      "__________________________________________________________________________________________________\n",
      "block6_sepconv2_act (Activation (None, None, None, 7 0           block6_sepconv1_bn[0][0]         \n",
      "__________________________________________________________________________________________________\n",
      "block6_sepconv2 (SeparableConv2 (None, None, None, 7 536536      block6_sepconv2_act[0][0]        \n",
      "__________________________________________________________________________________________________\n",
      "block6_sepconv2_bn (BatchNormal (None, None, None, 7 2912        block6_sepconv2[0][0]            \n",
      "__________________________________________________________________________________________________\n",
      "block6_sepconv3_act (Activation (None, None, None, 7 0           block6_sepconv2_bn[0][0]         \n",
      "__________________________________________________________________________________________________\n",
      "block6_sepconv3 (SeparableConv2 (None, None, None, 7 536536      block6_sepconv3_act[0][0]        \n",
      "__________________________________________________________________________________________________\n",
      "block6_sepconv3_bn (BatchNormal (None, None, None, 7 2912        block6_sepconv3[0][0]            \n",
      "__________________________________________________________________________________________________\n",
      "add_4 (Add)                     (None, None, None, 7 0           block6_sepconv3_bn[0][0]         \n",
      "                                                                 add_3[0][0]                      \n",
      "__________________________________________________________________________________________________\n",
      "block7_sepconv1_act (Activation (None, None, None, 7 0           add_4[0][0]                      \n",
      "__________________________________________________________________________________________________\n",
      "block7_sepconv1 (SeparableConv2 (None, None, None, 7 536536      block7_sepconv1_act[0][0]        \n",
      "__________________________________________________________________________________________________\n",
      "block7_sepconv1_bn (BatchNormal (None, None, None, 7 2912        block7_sepconv1[0][0]            \n",
      "__________________________________________________________________________________________________\n",
      "block7_sepconv2_act (Activation (None, None, None, 7 0           block7_sepconv1_bn[0][0]         \n",
      "__________________________________________________________________________________________________\n",
      "block7_sepconv2 (SeparableConv2 (None, None, None, 7 536536      block7_sepconv2_act[0][0]        \n",
      "__________________________________________________________________________________________________\n",
      "block7_sepconv2_bn (BatchNormal (None, None, None, 7 2912        block7_sepconv2[0][0]            \n",
      "__________________________________________________________________________________________________\n",
      "block7_sepconv3_act (Activation (None, None, None, 7 0           block7_sepconv2_bn[0][0]         \n",
      "__________________________________________________________________________________________________\n",
      "block7_sepconv3 (SeparableConv2 (None, None, None, 7 536536      block7_sepconv3_act[0][0]        \n",
      "__________________________________________________________________________________________________\n",
      "block7_sepconv3_bn (BatchNormal (None, None, None, 7 2912        block7_sepconv3[0][0]            \n",
      "__________________________________________________________________________________________________\n",
      "add_5 (Add)                     (None, None, None, 7 0           block7_sepconv3_bn[0][0]         \n",
      "                                                                 add_4[0][0]                      \n",
      "__________________________________________________________________________________________________\n",
      "block8_sepconv1_act (Activation (None, None, None, 7 0           add_5[0][0]                      \n",
      "__________________________________________________________________________________________________\n",
      "block8_sepconv1 (SeparableConv2 (None, None, None, 7 536536      block8_sepconv1_act[0][0]        \n",
      "__________________________________________________________________________________________________\n",
      "block8_sepconv1_bn (BatchNormal (None, None, None, 7 2912        block8_sepconv1[0][0]            \n",
      "__________________________________________________________________________________________________\n",
      "block8_sepconv2_act (Activation (None, None, None, 7 0           block8_sepconv1_bn[0][0]         \n",
      "__________________________________________________________________________________________________\n",
      "block8_sepconv2 (SeparableConv2 (None, None, None, 7 536536      block8_sepconv2_act[0][0]        \n",
      "__________________________________________________________________________________________________\n",
      "block8_sepconv2_bn (BatchNormal (None, None, None, 7 2912        block8_sepconv2[0][0]            \n",
      "__________________________________________________________________________________________________\n",
      "block8_sepconv3_act (Activation (None, None, None, 7 0           block8_sepconv2_bn[0][0]         \n",
      "__________________________________________________________________________________________________\n",
      "block8_sepconv3 (SeparableConv2 (None, None, None, 7 536536      block8_sepconv3_act[0][0]        \n",
      "__________________________________________________________________________________________________\n",
      "block8_sepconv3_bn (BatchNormal (None, None, None, 7 2912        block8_sepconv3[0][0]            \n",
      "__________________________________________________________________________________________________\n",
      "add_6 (Add)                     (None, None, None, 7 0           block8_sepconv3_bn[0][0]         \n",
      "                                                                 add_5[0][0]                      \n",
      "__________________________________________________________________________________________________\n",
      "block9_sepconv1_act (Activation (None, None, None, 7 0           add_6[0][0]                      \n",
      "__________________________________________________________________________________________________\n",
      "block9_sepconv1 (SeparableConv2 (None, None, None, 7 536536      block9_sepconv1_act[0][0]        \n",
      "__________________________________________________________________________________________________\n",
      "block9_sepconv1_bn (BatchNormal (None, None, None, 7 2912        block9_sepconv1[0][0]            \n",
      "__________________________________________________________________________________________________\n",
      "block9_sepconv2_act (Activation (None, None, None, 7 0           block9_sepconv1_bn[0][0]         \n",
      "__________________________________________________________________________________________________\n",
      "block9_sepconv2 (SeparableConv2 (None, None, None, 7 536536      block9_sepconv2_act[0][0]        \n",
      "__________________________________________________________________________________________________\n",
      "block9_sepconv2_bn (BatchNormal (None, None, None, 7 2912        block9_sepconv2[0][0]            \n",
      "__________________________________________________________________________________________________\n",
      "block9_sepconv3_act (Activation (None, None, None, 7 0           block9_sepconv2_bn[0][0]         \n",
      "__________________________________________________________________________________________________\n",
      "block9_sepconv3 (SeparableConv2 (None, None, None, 7 536536      block9_sepconv3_act[0][0]        \n",
      "__________________________________________________________________________________________________\n",
      "block9_sepconv3_bn (BatchNormal (None, None, None, 7 2912        block9_sepconv3[0][0]            \n",
      "__________________________________________________________________________________________________\n",
      "add_7 (Add)                     (None, None, None, 7 0           block9_sepconv3_bn[0][0]         \n",
      "                                                                 add_6[0][0]                      \n",
      "__________________________________________________________________________________________________\n",
      "block10_sepconv1_act (Activatio (None, None, None, 7 0           add_7[0][0]                      \n",
      "__________________________________________________________________________________________________\n",
      "block10_sepconv1 (SeparableConv (None, None, None, 7 536536      block10_sepconv1_act[0][0]       \n",
      "__________________________________________________________________________________________________\n",
      "block10_sepconv1_bn (BatchNorma (None, None, None, 7 2912        block10_sepconv1[0][0]           \n",
      "__________________________________________________________________________________________________\n",
      "block10_sepconv2_act (Activatio (None, None, None, 7 0           block10_sepconv1_bn[0][0]        \n",
      "__________________________________________________________________________________________________\n",
      "block10_sepconv2 (SeparableConv (None, None, None, 7 536536      block10_sepconv2_act[0][0]       \n",
      "__________________________________________________________________________________________________\n",
      "block10_sepconv2_bn (BatchNorma (None, None, None, 7 2912        block10_sepconv2[0][0]           \n",
      "__________________________________________________________________________________________________\n",
      "block10_sepconv3_act (Activatio (None, None, None, 7 0           block10_sepconv2_bn[0][0]        \n",
      "__________________________________________________________________________________________________\n",
      "block10_sepconv3 (SeparableConv (None, None, None, 7 536536      block10_sepconv3_act[0][0]       \n",
      "__________________________________________________________________________________________________\n",
      "block10_sepconv3_bn (BatchNorma (None, None, None, 7 2912        block10_sepconv3[0][0]           \n",
      "__________________________________________________________________________________________________\n",
      "add_8 (Add)                     (None, None, None, 7 0           block10_sepconv3_bn[0][0]        \n",
      "                                                                 add_7[0][0]                      \n",
      "__________________________________________________________________________________________________\n",
      "block11_sepconv1_act (Activatio (None, None, None, 7 0           add_8[0][0]                      \n",
      "__________________________________________________________________________________________________\n",
      "block11_sepconv1 (SeparableConv (None, None, None, 7 536536      block11_sepconv1_act[0][0]       \n",
      "__________________________________________________________________________________________________\n",
      "block11_sepconv1_bn (BatchNorma (None, None, None, 7 2912        block11_sepconv1[0][0]           \n",
      "__________________________________________________________________________________________________\n",
      "block11_sepconv2_act (Activatio (None, None, None, 7 0           block11_sepconv1_bn[0][0]        \n",
      "__________________________________________________________________________________________________\n",
      "block11_sepconv2 (SeparableConv (None, None, None, 7 536536      block11_sepconv2_act[0][0]       \n",
      "__________________________________________________________________________________________________\n",
      "block11_sepconv2_bn (BatchNorma (None, None, None, 7 2912        block11_sepconv2[0][0]           \n",
      "__________________________________________________________________________________________________\n",
      "block11_sepconv3_act (Activatio (None, None, None, 7 0           block11_sepconv2_bn[0][0]        \n",
      "__________________________________________________________________________________________________\n",
      "block11_sepconv3 (SeparableConv (None, None, None, 7 536536      block11_sepconv3_act[0][0]       \n",
      "__________________________________________________________________________________________________\n",
      "block11_sepconv3_bn (BatchNorma (None, None, None, 7 2912        block11_sepconv3[0][0]           \n",
      "__________________________________________________________________________________________________\n",
      "add_9 (Add)                     (None, None, None, 7 0           block11_sepconv3_bn[0][0]        \n",
      "                                                                 add_8[0][0]                      \n",
      "__________________________________________________________________________________________________\n",
      "block12_sepconv1_act (Activatio (None, None, None, 7 0           add_9[0][0]                      \n",
      "__________________________________________________________________________________________________\n",
      "block12_sepconv1 (SeparableConv (None, None, None, 7 536536      block12_sepconv1_act[0][0]       \n",
      "__________________________________________________________________________________________________\n",
      "block12_sepconv1_bn (BatchNorma (None, None, None, 7 2912        block12_sepconv1[0][0]           \n",
      "__________________________________________________________________________________________________\n",
      "block12_sepconv2_act (Activatio (None, None, None, 7 0           block12_sepconv1_bn[0][0]        \n",
      "__________________________________________________________________________________________________\n",
      "block12_sepconv2 (SeparableConv (None, None, None, 7 536536      block12_sepconv2_act[0][0]       \n",
      "__________________________________________________________________________________________________\n",
      "block12_sepconv2_bn (BatchNorma (None, None, None, 7 2912        block12_sepconv2[0][0]           \n",
      "__________________________________________________________________________________________________\n",
      "block12_sepconv3_act (Activatio (None, None, None, 7 0           block12_sepconv2_bn[0][0]        \n",
      "__________________________________________________________________________________________________\n",
      "block12_sepconv3 (SeparableConv (None, None, None, 7 536536      block12_sepconv3_act[0][0]       \n",
      "__________________________________________________________________________________________________\n",
      "block12_sepconv3_bn (BatchNorma (None, None, None, 7 2912        block12_sepconv3[0][0]           \n",
      "__________________________________________________________________________________________________\n",
      "add_10 (Add)                    (None, None, None, 7 0           block12_sepconv3_bn[0][0]        \n",
      "                                                                 add_9[0][0]                      \n",
      "__________________________________________________________________________________________________\n",
      "block13_sepconv1_act (Activatio (None, None, None, 7 0           add_10[0][0]                     \n",
      "__________________________________________________________________________________________________\n",
      "block13_sepconv1 (SeparableConv (None, None, None, 7 536536      block13_sepconv1_act[0][0]       \n",
      "__________________________________________________________________________________________________\n",
      "block13_sepconv1_bn (BatchNorma (None, None, None, 7 2912        block13_sepconv1[0][0]           \n",
      "__________________________________________________________________________________________________\n",
      "block13_sepconv2_act (Activatio (None, None, None, 7 0           block13_sepconv1_bn[0][0]        \n",
      "__________________________________________________________________________________________________\n",
      "block13_sepconv2 (SeparableConv (None, None, None, 1 752024      block13_sepconv2_act[0][0]       \n",
      "__________________________________________________________________________________________________\n",
      "block13_sepconv2_bn (BatchNorma (None, None, None, 1 4096        block13_sepconv2[0][0]           \n",
      "__________________________________________________________________________________________________\n",
      "conv2d_3 (Conv2D)               (None, None, None, 1 745472      add_10[0][0]                     \n",
      "__________________________________________________________________________________________________\n",
      "block13_pool (MaxPooling2D)     (None, None, None, 1 0           block13_sepconv2_bn[0][0]        \n",
      "__________________________________________________________________________________________________\n",
      "batch_normalization_3 (BatchNor (None, None, None, 1 4096        conv2d_3[0][0]                   \n",
      "__________________________________________________________________________________________________\n",
      "add_11 (Add)                    (None, None, None, 1 0           block13_pool[0][0]               \n",
      "                                                                 batch_normalization_3[0][0]      \n",
      "__________________________________________________________________________________________________\n",
      "block14_sepconv1 (SeparableConv (None, None, None, 1 1582080     add_11[0][0]                     \n",
      "__________________________________________________________________________________________________\n",
      "block14_sepconv1_bn (BatchNorma (None, None, None, 1 6144        block14_sepconv1[0][0]           \n",
      "__________________________________________________________________________________________________\n",
      "block14_sepconv1_act (Activatio (None, None, None, 1 0           block14_sepconv1_bn[0][0]        \n",
      "__________________________________________________________________________________________________\n",
      "block14_sepconv2 (SeparableConv (None, None, None, 2 3159552     block14_sepconv1_act[0][0]       \n",
      "__________________________________________________________________________________________________\n",
      "block14_sepconv2_bn (BatchNorma (None, None, None, 2 8192        block14_sepconv2[0][0]           \n",
      "__________________________________________________________________________________________________\n",
      "block14_sepconv2_act (Activatio (None, None, None, 2 0           block14_sepconv2_bn[0][0]        \n",
      "==================================================================================================\n",
      "Total params: 20,861,480\n",
      "Trainable params: 0\n",
      "Non-trainable params: 20,861,480\n",
      "__________________________________________________________________________________________________\n"
     ]
    }
   ],
   "source": [
    "base_model.summary()"
   ]
  },
  {
   "cell_type": "code",
   "execution_count": 103,
   "id": "52fa45d0",
   "metadata": {},
   "outputs": [],
   "source": [
    "optimizer = tf.keras.optimizers.SGD(learning_rate=0.01, momentum=0.9, decay=0.001)\n",
    "model.compile(\n",
    "    loss=[\"sparse_categorical_crossentropy\", \"sparse_categorical_crossentropy\"],\n",
    "    loss_weights=[0.5, 0.5],\n",
    "    optimizer=optimizer, \n",
    "    metrics=[\"accuracy\"]\n",
    ")"
   ]
  },
  {
   "cell_type": "code",
   "execution_count": 104,
   "id": "d06c7188",
   "metadata": {
    "scrolled": true
   },
   "outputs": [
    {
     "name": "stdout",
     "output_type": "stream",
     "text": [
      "Epoch 1/5\n",
      "336/336 [==============================] - 18s 48ms/step - loss: 2.4620 - dense_24_loss: 2.4265 - dense_25_loss: 2.4974 - dense_24_accuracy: 0.1423 - dense_25_accuracy: 0.1173 - val_loss: 2.4705 - val_dense_24_loss: 2.4083 - val_dense_25_loss: 2.5327 - val_dense_24_accuracy: 0.1713 - val_dense_25_accuracy: 0.1481\n",
      "Epoch 2/5\n",
      "336/336 [==============================] - 17s 51ms/step - loss: 2.1838 - dense_24_loss: 2.1465 - dense_25_loss: 2.2210 - dense_24_accuracy: 0.2351 - dense_25_accuracy: 0.2012 - val_loss: 2.3844 - val_dense_24_loss: 2.3225 - val_dense_25_loss: 2.4462 - val_dense_24_accuracy: 0.1574 - val_dense_25_accuracy: 0.1296\n",
      "Epoch 3/5\n",
      "336/336 [==============================] - 16s 48ms/step - loss: 2.0189 - dense_24_loss: 1.9891 - dense_25_loss: 2.0487 - dense_24_accuracy: 0.2958 - dense_25_accuracy: 0.2774 - val_loss: 2.3838 - val_dense_24_loss: 2.3241 - val_dense_25_loss: 2.4436 - val_dense_24_accuracy: 0.1991 - val_dense_25_accuracy: 0.1389\n",
      "Epoch 4/5\n",
      "336/336 [==============================] - 18s 53ms/step - loss: 1.9088 - dense_24_loss: 1.8870 - dense_25_loss: 1.9306 - dense_24_accuracy: 0.3435 - dense_25_accuracy: 0.3405 - val_loss: 2.3864 - val_dense_24_loss: 2.3586 - val_dense_25_loss: 2.4143 - val_dense_24_accuracy: 0.1944 - val_dense_25_accuracy: 0.1481\n",
      "Epoch 5/5\n",
      "336/336 [==============================] - 20s 59ms/step - loss: 1.8374 - dense_24_loss: 1.8174 - dense_25_loss: 1.8574 - dense_24_accuracy: 0.3887 - dense_25_accuracy: 0.3786 - val_loss: 2.3382 - val_dense_24_loss: 2.2519 - val_dense_25_loss: 2.4245 - val_dense_24_accuracy: 0.2269 - val_dense_25_accuracy: 0.1574\n"
     ]
    }
   ],
   "source": [
    "history = model.fit(train_ds, epochs=5, validation_data=val_ds)"
   ]
  },
  {
   "cell_type": "code",
   "execution_count": null,
   "id": "9431bb7a",
   "metadata": {},
   "outputs": [],
   "source": []
  }
 ],
 "metadata": {
  "kernelspec": {
   "display_name": "Python 3 (ipykernel)",
   "language": "python",
   "name": "python3"
  },
  "language_info": {
   "codemirror_mode": {
    "name": "ipython",
    "version": 3
   },
   "file_extension": ".py",
   "mimetype": "text/x-python",
   "name": "python",
   "nbconvert_exporter": "python",
   "pygments_lexer": "ipython3",
   "version": "3.9.7"
  }
 },
 "nbformat": 4,
 "nbformat_minor": 5
}
