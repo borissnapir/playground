{
 "cells": [
  {
   "cell_type": "markdown",
   "id": "99d896f7",
   "metadata": {},
   "source": [
    "source https://www.pyimagesearch.com/2014/08/25/4-point-opencv-getperspective-transform-example/"
   ]
  },
  {
   "cell_type": "code",
   "execution_count": null,
   "id": "33b8a352",
   "metadata": {},
   "outputs": [],
   "source": [
    "import transform\n",
    "import cv2\n",
    "import numpy as np"
   ]
  },
  {
   "cell_type": "code",
   "execution_count": 2,
   "id": "80632010",
   "metadata": {},
   "outputs": [],
   "source": [
    "# read image and define 4 corners of the ROI which needs to be transformed into bird's eye view\n",
    "img = cv2.imread(\"../data/hello_note.png\")\n",
    "\n",
    "pts = np.array(\n",
    "    [[103, 356],\n",
    "     [527, 172],\n",
    "     [701, 385],\n",
    "     [274, 654]]\n",
    ").astype(np.float32)"
   ]
  },
  {
   "cell_type": "code",
   "execution_count": 24,
   "id": "532f328d",
   "metadata": {},
   "outputs": [],
   "source": [
    "# draw the four points of the ROI as black circle on the image\n",
    "for pt in pts:\n",
    "    img = cv2.circle(img, center=(int(pt[0]), int(pt[1])), radius=10, color=(0,0,0), thickness=2)"
   ]
  },
  {
   "cell_type": "code",
   "execution_count": 25,
   "id": "64b16233",
   "metadata": {},
   "outputs": [],
   "source": [
    "# apply the four point tranform to obtain a \"birds eye view\" of\n",
    "# the image\n",
    "warped = transform.four_point_transform(img, pts)\n",
    "# show the original and warped images\n",
    "cv2.imshow(\"Original\", img)\n",
    "cv2.imshow(\"Warped\", warped)\n",
    "cv2.waitKey(0)\n",
    "cv2.destroyAllWindows()"
   ]
  }
 ],
 "metadata": {
  "kernelspec": {
   "display_name": "Python 3 (ipykernel)",
   "language": "python",
   "name": "python3"
  },
  "language_info": {
   "codemirror_mode": {
    "name": "ipython",
    "version": 3
   },
   "file_extension": ".py",
   "mimetype": "text/x-python",
   "name": "python",
   "nbconvert_exporter": "python",
   "pygments_lexer": "ipython3",
   "version": "3.9.7"
  }
 },
 "nbformat": 4,
 "nbformat_minor": 5
}
