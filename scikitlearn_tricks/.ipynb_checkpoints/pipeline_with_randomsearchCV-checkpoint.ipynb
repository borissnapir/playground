{
 "cells": [
  {
   "cell_type": "code",
   "execution_count": 11,
   "id": "222f0a17",
   "metadata": {},
   "outputs": [],
   "source": [
    "from sklearn import datasets\n",
    "from sklearn.model_selection import train_test_split\n",
    "from sklearn.pipeline import Pipeline\n",
    "from sklearn.cluster import KMeans\n",
    "from sklearn.svm import SVC\n",
    "from sklearn.model_selection import RandomizedSearchCV\n",
    "from scipy.stats import randint\n",
    "from sklearn.utils.fixes import loguniform"
   ]
  },
  {
   "cell_type": "code",
   "execution_count": 12,
   "id": "6ace9b7e",
   "metadata": {},
   "outputs": [
    {
     "data": {
      "text/plain": [
       "((1797, 64), (1797,))"
      ]
     },
     "execution_count": 12,
     "metadata": {},
     "output_type": "execute_result"
    }
   ],
   "source": [
    "# load digits dataset\n",
    "X, y = datasets.load_digits(return_X_y=True)\n",
    "X.shape, y.shape"
   ]
  },
  {
   "cell_type": "code",
   "execution_count": 13,
   "id": "f3dc209d",
   "metadata": {},
   "outputs": [],
   "source": [
    "# keep 20% for testing\n",
    "X_train, X_test, y_train, y_test = train_test_split(X, y, test_size=0.2, random_state=0)"
   ]
  },
  {
   "cell_type": "code",
   "execution_count": 14,
   "id": "a48c1b46",
   "metadata": {},
   "outputs": [],
   "source": [
    "# use kmeans as non linear dimensional reduction\n",
    "model = Pipeline([\n",
    "    (\"kmeans\", KMeans(n_clusters=10)),\n",
    "    (\"SVC\", SVC(C=1.0, kernel=\"rbf\"))\n",
    "])"
   ]
  },
  {
   "cell_type": "code",
   "execution_count": 24,
   "id": "54d6b145",
   "metadata": {},
   "outputs": [],
   "source": [
    "# distributions for hyperparameters\n",
    "params = {\n",
    "    \"kmeans__n_clusters\": randint(low=50, high=100),\n",
    "    \"SVC__C\": loguniform(a=0.1, b=100),\n",
    "}"
   ]
  },
  {
   "cell_type": "code",
   "execution_count": 25,
   "id": "086b4307",
   "metadata": {},
   "outputs": [],
   "source": [
    "# 10 random sampling of parameters, each tested through 5-fold cross-validation\n",
    "search = RandomizedSearchCV(\n",
    "    estimator=model, \n",
    "    param_distributions=params,\n",
    "    n_iter=10,\n",
    "    cv=5\n",
    ")"
   ]
  },
  {
   "cell_type": "code",
   "execution_count": 26,
   "id": "52a27f6f",
   "metadata": {},
   "outputs": [],
   "source": [
    "CV = search.fit(X_train, y_train)"
   ]
  },
  {
   "cell_type": "code",
   "execution_count": 27,
   "id": "f186b280",
   "metadata": {},
   "outputs": [
    {
     "data": {
      "text/plain": [
       "{'SVC__C': 47.05109438125532, 'kmeans__n_clusters': 61}"
      ]
     },
     "execution_count": 27,
     "metadata": {},
     "output_type": "execute_result"
    }
   ],
   "source": [
    "CV.best_params_"
   ]
  },
  {
   "cell_type": "code",
   "execution_count": 28,
   "id": "70c7f2f8",
   "metadata": {},
   "outputs": [
    {
     "data": {
      "text/plain": [
       "0.9881702477739063"
      ]
     },
     "execution_count": 28,
     "metadata": {},
     "output_type": "execute_result"
    }
   ],
   "source": [
    "CV.best_score_"
   ]
  },
  {
   "cell_type": "code",
   "execution_count": 29,
   "id": "cd4cda98",
   "metadata": {},
   "outputs": [
    {
     "data": {
      "text/plain": [
       "0.9777777777777777"
      ]
     },
     "execution_count": 29,
     "metadata": {},
     "output_type": "execute_result"
    }
   ],
   "source": [
    "# test final model on test dataset\n",
    "selected_model = CV.best_estimator_\n",
    "selected_model.score(X_test, y_test)"
   ]
  },
  {
   "cell_type": "code",
   "execution_count": null,
   "id": "7823a9d5",
   "metadata": {},
   "outputs": [],
   "source": []
  }
 ],
 "metadata": {
  "kernelspec": {
   "display_name": "Python 3",
   "language": "python",
   "name": "python3"
  },
  "language_info": {
   "codemirror_mode": {
    "name": "ipython",
    "version": 3
   },
   "file_extension": ".py",
   "mimetype": "text/x-python",
   "name": "python",
   "nbconvert_exporter": "python",
   "pygments_lexer": "ipython3",
   "version": "3.8.8"
  }
 },
 "nbformat": 4,
 "nbformat_minor": 5
}
