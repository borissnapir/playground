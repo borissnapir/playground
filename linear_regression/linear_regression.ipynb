{
 "cells": [
  {
   "cell_type": "code",
   "execution_count": 1,
   "id": "851a6ed0",
   "metadata": {},
   "outputs": [],
   "source": [
    "import numpy as np\n",
    "import pandas as pd\n",
    "from scipy.stats import pearsonr\n",
    "from sklearn.feature_selection import mutual_info_regression\n",
    "import matplotlib.pyplot as plt"
   ]
  },
  {
   "cell_type": "code",
   "execution_count": 2,
   "id": "0123e1ea",
   "metadata": {},
   "outputs": [],
   "source": [
    "X = pd.read_csv(\"X.csv\", header=None)\n",
    "y = pd.read_csv(\"Y.csv\", header=None)"
   ]
  },
  {
   "cell_type": "markdown",
   "id": "f0273d60",
   "metadata": {},
   "source": [
    "### pair-wise correlation between inputs to check for redundant input features"
   ]
  },
  {
   "cell_type": "code",
   "execution_count": 3,
   "id": "944de63d",
   "metadata": {},
   "outputs": [],
   "source": [
    "corr_matrix = X.corr(method='pearson').to_numpy()\n",
    "off_diag = []\n",
    "# get upper triangle terms\n",
    "for i in range(1, corr_matrix.shape[0]):\n",
    "    for j in range(i-1, corr_matrix.shape[1]):\n",
    "        off_diag.append(corr_matrix[i, j])"
   ]
  },
  {
   "cell_type": "code",
   "execution_count": 4,
   "id": "2ba4906d",
   "metadata": {},
   "outputs": [
    {
     "data": {
      "image/png": "[encoded data removed]",
      "text/plain": [
       "<Figure size 432x288 with 1 Axes>"
      ]
     },
     "metadata": {
      "needs_background": "light"
     },
     "output_type": "display_data"
    }
   ],
   "source": [
    "fig, ax = plt.subplots()\n",
    "ax.hist(off_diag)\n",
    "ax.set_title(\"pair-wise correlations\")\n",
    "plt.show()"
   ]
  },
  {
   "cell_type": "markdown",
   "id": "6c015f02",
   "metadata": {},
   "source": [
    "### correlation between inputs and output"
   ]
  },
  {
   "cell_type": "code",
   "execution_count": 5,
   "id": "99e84c86",
   "metadata": {},
   "outputs": [
    {
     "data": {
      "image/png": "[encoded data removed]",
      "text/plain": [
       "<Figure size 432x288 with 1 Axes>"
      ]
     },
     "metadata": {
      "needs_background": "light"
     },
     "output_type": "display_data"
    }
   ],
   "source": [
    "corr_xy = [pearsonr(X[i].to_numpy(), y.to_numpy()[:, 0])[0] for i in range(X.shape[1])]\n",
    "fig, ax = plt.subplots()\n",
    "ax.hist(corr_xy)\n",
    "ax.set_title(\"Correlations X vs y\")\n",
    "plt.show()"
   ]
  },
  {
   "cell_type": "markdown",
   "id": "0136d34f",
   "metadata": {},
   "source": [
    "### mutual information between inputs and output"
   ]
  },
  {
   "cell_type": "code",
   "execution_count": 6,
   "id": "e8485178",
   "metadata": {},
   "outputs": [
    {
     "data": {
      "image/png": "[encoded data removed]",
      "text/plain": [
       "<Figure size 432x288 with 1 Axes>"
      ]
     },
     "metadata": {
      "needs_background": "light"
     },
     "output_type": "display_data"
    }
   ],
   "source": [
    "MI = [mutual_info_regression(X[i].to_numpy().reshape((-1, 1)), y.to_numpy()[:, 0])[0] for i in range(X.shape[1])]\n",
    "fig, ax = plt.subplots()\n",
    "ax.hist(MI)\n",
    "ax.set_title(\"Mutual information\")\n",
    "plt.show()"
   ]
  },
  {
   "cell_type": "code",
   "execution_count": 7,
   "id": "fd97d9bb",
   "metadata": {},
   "outputs": [
    {
     "data": {
      "text/plain": [
       "array([1.23700049, 0.34785125, 0.31703509, 0.30196384, 0.28329111,\n",
       "       0.24333703, 0.23956205, 0.23793886, 0.2324772 , 0.22649036])"
      ]
     },
     "execution_count": 7,
     "metadata": {},
     "output_type": "execute_result"
    }
   ],
   "source": [
    "# top 10\n",
    "np.sort(MI)[::-1][:10]"
   ]
  },
  {
   "cell_type": "code",
   "execution_count": 13,
   "id": "5418cf9f",
   "metadata": {},
   "outputs": [
    {
     "data": {
      "text/plain": [
       "[<matplotlib.lines.Line2D at 0x7fdc36329ac0>]"
      ]
     },
     "execution_count": 13,
     "metadata": {},
     "output_type": "execute_result"
    },
    {
     "data": {
      "image/png": "[encoded data removed]",
      "text/plain": [
       "<Figure size 432x288 with 1 Axes>"
      ]
     },
     "metadata": {
      "needs_background": "light"
     },
     "output_type": "display_data"
    }
   ],
   "source": [
    "# the input feature with MI = 1.2\n",
    "fix, ax = plt.subplots()\n",
    "ax.plot(X[np.argmax(MI)], y, marker=\".\", linestyle=\"\")"
   ]
  },
  {
   "cell_type": "markdown",
   "id": "8c8a94f4",
   "metadata": {},
   "source": [
    "# linear models"
   ]
  },
  {
   "cell_type": "code",
   "execution_count": 15,
   "id": "11ee3ff5",
   "metadata": {},
   "outputs": [],
   "source": [
    "from sklearn.model_selection import train_test_split\n",
    "from sklearn import linear_model\n",
    "from scipy.stats import uniform, loguniform\n",
    "from sklearn.model_selection import RandomizedSearchCV\n",
    "from sklearn.metrics import r2_score"
   ]
  },
  {
   "cell_type": "markdown",
   "id": "161d28ef",
   "metadata": {},
   "source": [
    "## linear regression"
   ]
  },
  {
   "cell_type": "code",
   "execution_count": 16,
   "id": "782a0a15",
   "metadata": {},
   "outputs": [
    {
     "name": "stdout",
     "output_type": "stream",
     "text": [
      "[ 0.13  0.13  0.19  0.1  -0.18 -0.08  0.12 -0.04  0.07  0.03]\n"
     ]
    }
   ],
   "source": [
    "r2 = []\n",
    "n_iter = 10\n",
    "for i in range(n_iter):\n",
    "    X_train, X_test, y_train, y_test = train_test_split(X, y, test_size=0.2)\n",
    "    model = linear_model.LinearRegression()\n",
    "    model.fit(X_train, y_train)\n",
    "    r2.append(model.score(X_test, y_test))\n",
    "print(np.round(r2, 2))"
   ]
  },
  {
   "cell_type": "markdown",
   "id": "266565ad",
   "metadata": {},
   "source": [
    "## lasso"
   ]
  },
  {
   "cell_type": "code",
   "execution_count": 109,
   "id": "57376dcb",
   "metadata": {},
   "outputs": [
    {
     "name": "stdout",
     "output_type": "stream",
     "text": [
      "alpha 0.029108411719359573\n",
      "r2 0.9969049601061029\n"
     ]
    }
   ],
   "source": [
    "params = {\"alpha\": loguniform(a=0.01, b=10)}\n",
    "r2 = []\n",
    "alpha = []\n",
    "n_iter = 10\n",
    "for i in range(n_iter):\n",
    "    X_train, X_test, y_train, y_test = train_test_split(X, y, test_size=0.2)\n",
    "    model = linear_model.Lasso()\n",
    "    # 10 random sampling of parameters, each tested through 5-fold cross-validation\n",
    "    search = RandomizedSearchCV(\n",
    "        estimator=model, \n",
    "        param_distributions=params,\n",
    "        n_iter=10,\n",
    "        cv=5\n",
    "    )\n",
    "    search.fit(X_train, y_train.to_numpy()[:, 0])\n",
    "    alpha.append(search.best_params_[\"alpha\"])\n",
    "    r2.append(search.best_estimator_.score(X_test, y_test))\n",
    "print(f\"alpha {np.mean(alpha)}\")\n",
    "print(f\"r2 {np.mean(r2)}\")"
   ]
  },
  {
   "cell_type": "code",
   "execution_count": 106,
   "id": "e7e5c36b",
   "metadata": {},
   "outputs": [
    {
     "name": "stdout",
     "output_type": "stream",
     "text": [
      "alpha 0.023091820715092047\n",
      "r2 0.9960459044933481\n"
     ]
    }
   ],
   "source": [
    "# or with lassoCV, tries n_alphas values along a regularization path, not clear how it decides on the first and final value of the path\n",
    "r2 = []\n",
    "alpha = []\n",
    "n_iter = 10\n",
    "for i in range(n_iter):\n",
    "    X_train, X_test, y_train, y_test = train_test_split(X, y, test_size=0.2)\n",
    "    model = linear_model.LassoCV(n_alphas=10)\n",
    "    model.fit(X_train, y_train.to_numpy()[:, 0])\n",
    "    alpha.append(model.alpha_)\n",
    "    r2.append(model.score(X_test, y_test))\n",
    "print(f\"alpha {np.mean(alpha)}\")\n",
    "print(f\"r2 {np.mean(r2)}\")"
   ]
  },
  {
   "cell_type": "markdown",
   "id": "7eec3ff7",
   "metadata": {},
   "source": [
    "## ridge"
   ]
  },
  {
   "cell_type": "code",
   "execution_count": 110,
   "id": "84c03bf9",
   "metadata": {},
   "outputs": [
    {
     "name": "stdout",
     "output_type": "stream",
     "text": [
      "alpha 0.020820140108826997\n",
      "r2 0.023037995654165633\n"
     ]
    }
   ],
   "source": [
    "# use ridgeCV\n",
    "r2 = []\n",
    "alpha = []\n",
    "n_iter = 10\n",
    "for i in range(n_iter):\n",
    "    X_train, X_test, y_train, y_test = train_test_split(X, y, test_size=0.2)\n",
    "    model = linear_model.RidgeCV(alphas=loguniform.rvs(a=0.01, b=10, size=10))\n",
    "    model.fit(X_train, y_train.to_numpy()[:, 0])\n",
    "    alpha.append(model.alpha_)\n",
    "    r2.append(model.score(X_test, y_test))\n",
    "print(f\"alpha {np.mean(alpha)}\")\n",
    "print(f\"r2 {np.mean(r2)}\")"
   ]
  },
  {
   "cell_type": "markdown",
   "id": "c4537d22",
   "metadata": {},
   "source": [
    "## SVR"
   ]
  },
  {
   "cell_type": "code",
   "execution_count": 111,
   "id": "cd37e791",
   "metadata": {},
   "outputs": [],
   "source": [
    "from sklearn.svm import LinearSVR"
   ]
  },
  {
   "cell_type": "markdown",
   "id": "be13f0b9",
   "metadata": {},
   "source": [
    "**linear SVR is similar to ridge regression**\n",
    "- ridge regression: l2 reg on w + MSE loss\n",
    "- linear SVR: l2 reg on w + hinge loss\n",
    "\n",
    "here ridge regression failed, and so does linear SVR"
   ]
  },
  {
   "cell_type": "code",
   "execution_count": 114,
   "id": "41e73068",
   "metadata": {},
   "outputs": [
    {
     "name": "stdout",
     "output_type": "stream",
     "text": [
      "C 1.6336653399676593\n",
      "r2 0.0030308763400004437\n"
     ]
    }
   ],
   "source": [
    "params = {\n",
    "    \"epsilon\": uniform(0,2),\n",
    "    \"C\": loguniform(a=0.01, b=10)\n",
    "}\n",
    "r2 = []\n",
    "epsilon = []\n",
    "C = []\n",
    "n_iter = 10\n",
    "for i in range(n_iter):\n",
    "    X_train, X_test, y_train, y_test = train_test_split(X, y, test_size=0.2)\n",
    "    model = LinearSVR()\n",
    "    # 10 random sampling of parameters, each tested through 5-fold cross-validation\n",
    "    search = RandomizedSearchCV(\n",
    "        estimator=model, \n",
    "        param_distributions=params,\n",
    "        n_iter=10,\n",
    "        cv=5\n",
    "    )\n",
    "    search.fit(X_train, y_train.to_numpy()[:, 0])\n",
    "    epsilon.append(search.best_params_[\"epsilon\"])\n",
    "    C.append(search.best_params_[\"C\"])\n",
    "    r2.append(search.best_estimator_.score(X_test, y_test))\n",
    "print(f\"epsilon {np.mean(epsilon)}\")\n",
    "print(f\"C {np.mean(C)}\")\n",
    "print(f\"r2 {np.mean(r2)}\")"
   ]
  },
  {
   "cell_type": "markdown",
   "id": "4442d2cd",
   "metadata": {},
   "source": [
    "## Normal equations\n",
    "\n",
    "the regularized version of the normal equations corresponds to an l2 regularization, ie ridge regression. So it fails just like ridge regression has failed. With l1 regularization there is no closed form solution."
   ]
  },
  {
   "cell_type": "code",
   "execution_count": 57,
   "id": "2205985b",
   "metadata": {},
   "outputs": [],
   "source": [
    "# make a scikitlearn estimator compatible with randomsearchCV\n",
    "from sklearn.base import BaseEstimator\n",
    "class NormalEquations(BaseEstimator):\n",
    "    def __init__(self, lmbda=1):\n",
    "        self.lmbda = lmbda\n",
    "        \n",
    "    # needed for grid search\n",
    "    def get_params(self, deep=True):\n",
    "        return {\"lmbda\": self.lmbda}     \n",
    "        \n",
    "    # needed for grid search\n",
    "    def set_params(self, **parameters):\n",
    "        for parameter, value in parameters.items():\n",
    "            setattr(self, parameter, value)\n",
    "        # return self to allow chaining\n",
    "        return self\n",
    "\n",
    "    # fit model\n",
    "    def fit(self, X_train, y_train):\n",
    "        X_b = np.c_[np.ones((X_train.shape[0], 1)), X_train]  # add x0 = 1 to each instance\n",
    "        theta = np.linalg.inv(X_b.T.dot(X_b) + self.lmbda*np.eye(X_b.shape[1])).dot(X_b.T.dot(y_train))\n",
    "        self.theta = theta                     \n",
    "        return self\n",
    "    \n",
    "    def predict(self, X):\n",
    "        X_b = np.c_[np.ones((X.shape[0], 1)), X]  # add x0 = 1 to each instance\n",
    "        return X_b.dot(self.theta)\n",
    "    \n",
    "    def score(self, X, y):\n",
    "        y_pred = self.predict(X)\n",
    "        return r2_score(y, y_pred)"
   ]
  },
  {
   "cell_type": "code",
   "execution_count": 60,
   "id": "7abce694",
   "metadata": {
    "scrolled": false
   },
   "outputs": [
    {
     "name": "stdout",
     "output_type": "stream",
     "text": [
      "lmbda 0.030410944041877573\n",
      "r2 -0.08622458252269428\n"
     ]
    }
   ],
   "source": [
    "params = {\n",
    "    \"lmbda\": loguniform(a=0.01, b=10)\n",
    "}\n",
    "n_iter = 10\n",
    "r2 = []\n",
    "lmbda = []\n",
    "for i in range(n_iter):\n",
    "    X_train, X_test, y_train, y_test = train_test_split(X, y, test_size=0.2)\n",
    "    model = NormalEquations()\n",
    "    # 10 random sampling of parameters, each tested through 5-fold cross-validation\n",
    "    search = RandomizedSearchCV(\n",
    "        estimator=model, \n",
    "        param_distributions=params,\n",
    "        n_iter=10,\n",
    "        cv=5\n",
    "    )\n",
    "    search.fit(X_train, y_train.to_numpy())\n",
    "    lmbda.append(search.best_params_[\"lmbda\"])\n",
    "    r2.append(search.best_estimator_.score(X_test, y_test))\n",
    "print(f\"lmbda {np.mean(lmbda)}\")\n",
    "print(f\"r2 {np.mean(r2)}\")"
   ]
  },
  {
   "cell_type": "code",
   "execution_count": null,
   "id": "82b04155",
   "metadata": {},
   "outputs": [],
   "source": []
  }
 ],
 "metadata": {
  "kernelspec": {
   "display_name": "Python 3",
   "language": "python",
   "name": "python3"
  },
  "language_info": {
   "codemirror_mode": {
    "name": "ipython",
    "version": 3
   },
   "file_extension": ".py",
   "mimetype": "text/x-python",
   "name": "python",
   "nbconvert_exporter": "python",
   "pygments_lexer": "ipython3",
   "version": "3.8.8"
  }
 },
 "nbformat": 4,
 "nbformat_minor": 5
}
