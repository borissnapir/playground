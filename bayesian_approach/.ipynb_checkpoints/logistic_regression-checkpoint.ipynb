{
 "cells": [
  {
   "cell_type": "code",
   "execution_count": null,
   "id": "bbae7088",
   "metadata": {},
   "outputs": [],
   "source": [
    "import arviz as az\n",
    "import matplotlib.pyplot as plt\n",
    "import numpy as np\n",
    "import pandas as pd\n",
    "import pymc3 as pm\n",
    "# import seaborn\n",
    "# import theano.tensor as tt\n",
    "# import warnings\n",
    "# from IPython.core.pylabtools import figsize\n",
    "# import seaborn as sns\n",
    "# from sklearn.metrics import (roc_curve, roc_auc_score, confusion_matrix, accuracy_score, f1_score, \n",
    "#                              precision_recall_curve) \n",
    "# from sklearn.metrics import confusion_matrix"
   ]
  },
  {
   "cell_type": "markdown",
   "id": "6883c855",
   "metadata": {},
   "source": [
    "The dataset contains several variables such as light, temperature, humidity, and CO2 levels. The goal is to detect a room’s occupancy from these variables.\n",
    "\n",
    "https://towardsdatascience.com/bayesian-logistic-regression-with-pymc3-8e17c576f31a"
   ]
  },
  {
   "cell_type": "code",
   "execution_count": null,
   "id": "6faf8767",
   "metadata": {},
   "outputs": [],
   "source": []
  }
 ],
 "metadata": {
  "kernelspec": {
   "display_name": "Python 3 (ipykernel)",
   "language": "python",
   "name": "python3"
  },
  "language_info": {
   "codemirror_mode": {
    "name": "ipython",
    "version": 3
   },
   "file_extension": ".py",
   "mimetype": "text/x-python",
   "name": "python",
   "nbconvert_exporter": "python",
   "pygments_lexer": "ipython3",
   "version": "3.9.7"
  }
 },
 "nbformat": 4,
 "nbformat_minor": 5
}
