{
 "cells": [
  {
   "cell_type": "code",
   "execution_count": 2,
   "id": "10c11b17",
   "metadata": {},
   "outputs": [],
   "source": [
    "import arviz as az\n",
    "import matplotlib.pyplot as plt\n",
    "import numpy as np\n",
    "import pandas as pd\n",
    "import pymc3 as pm\n",
    "# import seaborn\n",
    "# import theano.tensor as tt\n",
    "# import warnings\n",
    "# from IPython.core.pylabtools import figsize\n",
    "# import seaborn as sns\n",
    "# from sklearn.metrics import (roc_curve, roc_auc_score, confusion_matrix, accuracy_score, f1_score, \n",
    "#                              precision_recall_curve) \n",
    "# from sklearn.metrics import confusion_matrix"
   ]
  },
  {
   "cell_type": "markdown",
   "id": "19480159",
   "metadata": {},
   "source": [
    "The dataset contains several variables such as light, temperature, humidity, and CO2 levels. The goal is to detect a room’s occupancy from these variables.\n",
    "\n",
    "https://towardsdatascience.com/bayesian-logistic-regression-with-pymc3-8e17c576f31a"
   ]
  },
  {
   "cell_type": "code",
   "execution_count": 3,
   "id": "559b5398",
   "metadata": {},
   "outputs": [
    {
     "data": {
      "text/html": [
       "<div>\n",
       "<style scoped>\n",
       "    .dataframe tbody tr th:only-of-type {\n",
       "        vertical-align: middle;\n",
       "    }\n",
       "\n",
       "    .dataframe tbody tr th {\n",
       "        vertical-align: top;\n",
       "    }\n",
       "\n",
       "    .dataframe thead th {\n",
       "        text-align: right;\n",
       "    }\n",
       "</style>\n",
       "<table border=\"1\" class=\"dataframe\">\n",
       "  <thead>\n",
       "    <tr style=\"text-align: right;\">\n",
       "      <th></th>\n",
       "      <th>date</th>\n",
       "      <th>Temperature</th>\n",
       "      <th>Humidity</th>\n",
       "      <th>Light</th>\n",
       "      <th>CO2</th>\n",
       "      <th>HumidityRatio</th>\n",
       "      <th>Occupancy</th>\n",
       "    </tr>\n",
       "  </thead>\n",
       "  <tbody>\n",
       "    <tr>\n",
       "      <th>1550</th>\n",
       "      <td>2015-02-03 13:49:00</td>\n",
       "      <td>23.183333</td>\n",
       "      <td>25.70</td>\n",
       "      <td>608.333333</td>\n",
       "      <td>879.000000</td>\n",
       "      <td>0.004516</td>\n",
       "      <td>1</td>\n",
       "    </tr>\n",
       "    <tr>\n",
       "      <th>1646</th>\n",
       "      <td>2015-02-03 15:24:59</td>\n",
       "      <td>22.917500</td>\n",
       "      <td>30.29</td>\n",
       "      <td>464.000000</td>\n",
       "      <td>1294.000000</td>\n",
       "      <td>0.005243</td>\n",
       "      <td>1</td>\n",
       "    </tr>\n",
       "    <tr>\n",
       "      <th>1008</th>\n",
       "      <td>2015-02-03 04:46:59</td>\n",
       "      <td>20.390000</td>\n",
       "      <td>22.50</td>\n",
       "      <td>0.000000</td>\n",
       "      <td>439.666667</td>\n",
       "      <td>0.003327</td>\n",
       "      <td>0</td>\n",
       "    </tr>\n",
       "    <tr>\n",
       "      <th>514</th>\n",
       "      <td>2015-02-02 20:32:59</td>\n",
       "      <td>21.000000</td>\n",
       "      <td>23.29</td>\n",
       "      <td>0.000000</td>\n",
       "      <td>519.333333</td>\n",
       "      <td>0.003577</td>\n",
       "      <td>0</td>\n",
       "    </tr>\n",
       "    <tr>\n",
       "      <th>2488</th>\n",
       "      <td>2015-02-04 05:26:59</td>\n",
       "      <td>20.600000</td>\n",
       "      <td>24.39</td>\n",
       "      <td>0.000000</td>\n",
       "      <td>461.333333</td>\n",
       "      <td>0.003655</td>\n",
       "      <td>0</td>\n",
       "    </tr>\n",
       "  </tbody>\n",
       "</table>\n",
       "</div>"
      ],
      "text/plain": [
       "                     date  Temperature  Humidity       Light          CO2  \\\n",
       "1550  2015-02-03 13:49:00    23.183333     25.70  608.333333   879.000000   \n",
       "1646  2015-02-03 15:24:59    22.917500     30.29  464.000000  1294.000000   \n",
       "1008  2015-02-03 04:46:59    20.390000     22.50    0.000000   439.666667   \n",
       "514   2015-02-02 20:32:59    21.000000     23.29    0.000000   519.333333   \n",
       "2488  2015-02-04 05:26:59    20.600000     24.39    0.000000   461.333333   \n",
       "\n",
       "      HumidityRatio  Occupancy  \n",
       "1550       0.004516          1  \n",
       "1646       0.005243          1  \n",
       "1008       0.003327          0  \n",
       "514        0.003577          0  \n",
       "2488       0.003655          0  "
      ]
     },
     "execution_count": 3,
     "metadata": {},
     "output_type": "execute_result"
    }
   ],
   "source": [
    "df=pd.read_csv('./data/datatest.txt')\n",
    "df.sample(5)"
   ]
  },
  {
   "cell_type": "code",
   "execution_count": null,
   "id": "87260f15",
   "metadata": {},
   "outputs": [],
   "source": []
  }
 ],
 "metadata": {
  "kernelspec": {
   "display_name": "Python 3 (ipykernel)",
   "language": "python",
   "name": "python3"
  },
  "language_info": {
   "codemirror_mode": {
    "name": "ipython",
    "version": 3
   },
   "file_extension": ".py",
   "mimetype": "text/x-python",
   "name": "python",
   "nbconvert_exporter": "python",
   "pygments_lexer": "ipython3",
   "version": "3.9.7"
  }
 },
 "nbformat": 4,
 "nbformat_minor": 5
}
