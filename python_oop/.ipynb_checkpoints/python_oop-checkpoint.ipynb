{
 "cells": [
  {
   "cell_type": "markdown",
   "id": "71eb9b6f",
   "metadata": {},
   "source": [
    "**instance methods** can freely access attributes and other methods on the same object through the `self` parameter. This gives them a lot of power when it comes to modifying an object’s state. Not only can they modify object state, instance methods can also access the class itself through the `self.__class__` attribute. This means instance methods can also modify class state.\n",
    "\n",
    "**class methods** allow defining alternative constructors for the class. Python only allows one `__init__` method per class. Using class methods it’s possible to add as many alternative constructors as necessary --- Those are called *factory functions*. Class methods can only modify class state that applies across all instances of the class. They can’t modify object instance state, as this would require access to self.\n",
    "\n",
    "\n",
    "**static methods** can’t access class or instance state because they don’t take a `cls` or `self` argument. That’s a big limitation — but it’s also a great signal to show that a particular method is independent from everything else around it.\n",
    "\n",
    "Note that naming the parameters `self` and `cls` is just a convention. They could just as easily be named the_object and the_class."
   ]
  },
  {
   "cell_type": "code",
   "execution_count": 1,
   "id": "cdae54ae",
   "metadata": {},
   "outputs": [],
   "source": [
    "import math\n",
    "\n",
    "class Pizza:\n",
    "    def __init__(self, ingredients, radius=15):\n",
    "        self.radius = radius\n",
    "        self.ingredients = ingredients\n",
    "\n",
    "    def __repr__(self):\n",
    "        return (f'Pizza({self.radius!r}, '\n",
    "                f'{self.ingredients!r})')\n",
    "\n",
    "    \n",
    "    # example of class methods\n",
    "    @classmethod\n",
    "    def margherita(cls):\n",
    "        return cls(['mozzarella', 'tomatoes'])\n",
    "\n",
    "    @classmethod\n",
    "    def prosciutto(cls):\n",
    "        return cls(['mozzarella', 'tomatoes', 'ham'])\n",
    "    \n",
    "    \n",
    "    # instance method\n",
    "    def area(self):\n",
    "        return self.circle_area(self.radius)\n",
    "    \n",
    "    # example of static methods\n",
    "    @staticmethod\n",
    "    def circle_area(r):\n",
    "        return r ** 2 * math.pi\n"
   ]
  },
  {
   "cell_type": "code",
   "execution_count": 2,
   "id": "29df6a37",
   "metadata": {},
   "outputs": [
    {
     "data": {
      "text/plain": [
       "Pizza(15, ['mozzarella', 'tomatoes'])"
      ]
     },
     "execution_count": 2,
     "metadata": {},
     "output_type": "execute_result"
    }
   ],
   "source": [
    "# can call class method on the class\n",
    "Pizza.margherita()"
   ]
  },
  {
   "cell_type": "code",
   "execution_count": 3,
   "id": "0a2a1af9",
   "metadata": {},
   "outputs": [
    {
     "data": {
      "text/plain": [
       "Pizza(15, ['mozzarella', 'tomatoes'])"
      ]
     },
     "execution_count": 3,
     "metadata": {},
     "output_type": "execute_result"
    }
   ],
   "source": [
    "# can also call class method on an instance, thanks to the attribute self.__class__\n",
    "pizza = Pizza([\"tomatoes\"], radius=30)\n",
    "pizza.margherita()"
   ]
  },
  {
   "cell_type": "code",
   "execution_count": 4,
   "id": "f04afea1",
   "metadata": {},
   "outputs": [
    {
     "data": {
      "text/plain": [
       "2827.4333882308138"
      ]
     },
     "execution_count": 4,
     "metadata": {},
     "output_type": "execute_result"
    }
   ],
   "source": [
    "pizza.area()"
   ]
  },
  {
   "cell_type": "markdown",
   "id": "ce72f1ba",
   "metadata": {},
   "source": [
    "**Basic inheritance**"
   ]
  },
  {
   "cell_type": "code",
   "execution_count": 5,
   "id": "1a7a3dbc",
   "metadata": {},
   "outputs": [],
   "source": [
    "class Rectangle:\n",
    "    def __init__(self, length, width):\n",
    "        self.length = length\n",
    "        self.width = width\n",
    "\n",
    "    def area(self):\n",
    "        return self.length * self.width\n",
    "\n",
    "    def perimeter(self):\n",
    "        return 2 * self.length + 2 * self.width\n",
    "\n",
    "class Square(Rectangle):\n",
    "    def __init__(self, length):\n",
    "        super().__init__(length, length)\n"
   ]
  },
  {
   "cell_type": "code",
   "execution_count": 7,
   "id": "7c625efc",
   "metadata": {},
   "outputs": [
    {
     "data": {
      "text/plain": [
       "100"
      ]
     },
     "execution_count": 7,
     "metadata": {},
     "output_type": "execute_result"
    }
   ],
   "source": [
    "s = Square(10)\n",
    "s.area()"
   ]
  },
  {
   "cell_type": "markdown",
   "id": "296722b2",
   "metadata": {},
   "source": [
    "**Use of mixin**\n",
    "\n",
    "Instead of defining an “is-a” relationship it may be more accurate to say that it defines an “includes-a” relationship. With a mix-in you can write a behavior that can be directly included in any number of other classes.\n",
    "\n",
    "Below, you will see a short example using VolumeMixin to give specific functionality to our 3D objects—in this case, a volume calculation"
   ]
  },
  {
   "cell_type": "code",
   "execution_count": 8,
   "id": "8ac3ddef",
   "metadata": {},
   "outputs": [],
   "source": [
    "class Rectangle():\n",
    "    def __init__(self, length, width):\n",
    "        self.length = length\n",
    "        self.width = width\n",
    "\n",
    "    def area(self):\n",
    "        return self.length * self.width\n",
    "\n",
    "class Square(Rectangle):\n",
    "    def __init__(self, length):\n",
    "        super().__init__(length, length)\n",
    "\n",
    "class VolumeMixin():\n",
    "    def volume(self):\n",
    "        return self.area() * self.height\n",
    "\n",
    "class Cube(VolumeMixin, Square):\n",
    "    def __init__(self, length):\n",
    "        super().__init__(length)\n",
    "        self.height = length\n",
    "\n",
    "    def face_area(self):\n",
    "        return super().area()\n",
    "\n",
    "    def surface_area(self):\n",
    "        return super().area() * 6\n"
   ]
  },
  {
   "cell_type": "code",
   "execution_count": 9,
   "id": "f950fe29",
   "metadata": {},
   "outputs": [
    {
     "name": "stdout",
     "output_type": "stream",
     "text": [
      "24 8\n"
     ]
    }
   ],
   "source": [
    "cube = Cube(2)\n",
    "print(cube.surface_area(), cube.volume())"
   ]
  },
  {
   "cell_type": "code",
   "execution_count": null,
   "id": "ff0edfa2",
   "metadata": {},
   "outputs": [],
   "source": []
  }
 ],
 "metadata": {
  "kernelspec": {
   "display_name": "Python 3",
   "language": "python",
   "name": "python3"
  },
  "language_info": {
   "codemirror_mode": {
    "name": "ipython",
    "version": 3
   },
   "file_extension": ".py",
   "mimetype": "text/x-python",
   "name": "python",
   "nbconvert_exporter": "python",
   "pygments_lexer": "ipython3",
   "version": "3.8.8"
  }
 },
 "nbformat": 4,
 "nbformat_minor": 5
}
