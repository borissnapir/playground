{
 "cells": [
  {
   "cell_type": "markdown",
   "id": "71eb9b6f",
   "metadata": {},
   "source": [
    "**instance methods** can freely access attributes and other methods on the same object through the `self` parameter. This gives them a lot of power when it comes to modifying an object’s state. Not only can they modify object state, instance methods can also access the class itself through the `self.__class__` attribute. This means instance methods can also modify class state.\n",
    "\n",
    "**class methods** allow defining alternative constructors for the class. Python only allows one `__init__` method per class. Using class methods it’s possible to add as many alternative constructors as necessary --- Those are called *factory functions*. Class methods can only modify class state that applies across all instances of the class. They can’t modify object instance state, as this would require access to self.\n",
    "\n",
    "\n",
    "**static methods** can’t access class or instance state because they don’t take a `cls` or `self` argument. That’s a big limitation — but it’s also a great signal to show that a particular method is independent from everything else around it.\n",
    "\n",
    "Note that naming the parameters `self` and `cls` is just a convention. They could just as easily be named the_object and the_class."
   ]
  },
  {
   "cell_type": "code",
   "execution_count": 45,
   "id": "cdae54ae",
   "metadata": {},
   "outputs": [],
   "source": [
    "import math\n",
    "\n",
    "class Pizza:\n",
    "    def __init__(self, ingredients, radius=15):\n",
    "        self.radius = radius\n",
    "        self.ingredients = ingredients\n",
    "\n",
    "    def __repr__(self):\n",
    "        return (f'Pizza({self.radius!r}, '\n",
    "                f'{self.ingredients!r})')\n",
    "\n",
    "    \n",
    "    # example of class methods\n",
    "    @classmethod\n",
    "    def margherita(cls):\n",
    "        return cls(['mozzarella', 'tomatoes'])\n",
    "\n",
    "    @classmethod\n",
    "    def prosciutto(cls):\n",
    "        return cls(['mozzarella', 'tomatoes', 'ham'])\n",
    "    \n",
    "    \n",
    "    # example of static methods\n",
    "    def area(self):\n",
    "        return self.circle_area(self.radius)\n",
    "\n",
    "    @staticmethod\n",
    "    def circle_area(r):\n",
    "        return r ** 2 * math.pi\n"
   ]
  },
  {
   "cell_type": "code",
   "execution_count": 46,
   "id": "29df6a37",
   "metadata": {},
   "outputs": [
    {
     "data": {
      "text/plain": [
       "Pizza(15, ['mozzarella', 'tomatoes'])"
      ]
     },
     "execution_count": 46,
     "metadata": {},
     "output_type": "execute_result"
    }
   ],
   "source": [
    "# can call class method on the class\n",
    "Pizza.margherita()"
   ]
  },
  {
   "cell_type": "code",
   "execution_count": 47,
   "id": "0a2a1af9",
   "metadata": {},
   "outputs": [
    {
     "data": {
      "text/plain": [
       "Pizza(15, ['mozzarella', 'tomatoes'])"
      ]
     },
     "execution_count": 47,
     "metadata": {},
     "output_type": "execute_result"
    }
   ],
   "source": [
    "# can also call class method on an instance, thanks to the attribute self.__class__\n",
    "pizza = Pizza([\"tomatoes\"], radius=30)\n",
    "pizza.margherita()"
   ]
  },
  {
   "cell_type": "code",
   "execution_count": 48,
   "id": "f04afea1",
   "metadata": {},
   "outputs": [
    {
     "data": {
      "text/plain": [
       "2827.4333882308138"
      ]
     },
     "execution_count": 48,
     "metadata": {},
     "output_type": "execute_result"
    }
   ],
   "source": [
    "pizza.area()"
   ]
  },
  {
   "cell_type": "code",
   "execution_count": null,
   "id": "654eef55",
   "metadata": {},
   "outputs": [],
   "source": []
  },
  {
   "cell_type": "code",
   "execution_count": null,
   "id": "1a7a3dbc",
   "metadata": {},
   "outputs": [],
   "source": []
  }
 ],
 "metadata": {
  "kernelspec": {
   "display_name": "Python 3 (ipykernel)",
   "language": "python",
   "name": "python3"
  },
  "language_info": {
   "codemirror_mode": {
    "name": "ipython",
    "version": 3
   },
   "file_extension": ".py",
   "mimetype": "text/x-python",
   "name": "python",
   "nbconvert_exporter": "python",
   "pygments_lexer": "ipython3",
   "version": "3.9.7"
  }
 },
 "nbformat": 4,
 "nbformat_minor": 5
}
